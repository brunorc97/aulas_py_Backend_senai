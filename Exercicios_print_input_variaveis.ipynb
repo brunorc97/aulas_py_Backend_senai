{
 "nbformat": 4,
 "nbformat_minor": 0,
 "metadata": {
  "colab": {
   "provenance": []
  },
  "kernelspec": {
   "name": "python3",
   "display_name": "Python 3 (ipykernel)",
   "language": "python"
  },
  "language_info": {
   "name": "python"
  }
 },
 "cells": [
  {
   "cell_type": "markdown",
   "source": [
    "**Exercício 1: Registro de Informações Pessoais**\n",
    "\n",
    "Desenvolva um programa em Python que solicite ao usuário que insira seu nome, sobrenome e idade. Em seguida, o programa deve exibir uma mensagem de boas-vindas contendo essas informações.\n",
    "\n",
    "Utilize os comandos print, input e variáveis para capturar e exibir os dados fornecidos pelo usuário."
   ],
   "metadata": {
    "id": "j6sjkzfeW5jb"
   }
  },
  {
   "metadata": {
    "ExecuteTime": {
     "end_time": "2025-09-10T23:24:29.874070Z",
     "start_time": "2025-09-10T23:24:07.594458Z"
    }
   },
   "cell_type": "code",
   "source": [
    "nome = input(\"Digite seu nome\")\n",
    "sobrenome = input(\"Digite seu sobrenome\")\n",
    "idade =input (\"Digite sua idade\")\n",
    "\n",
    "print(\"Seja Bem-vindo(a) \" + (nome) + \" \" + (sobrenome) + \" voce tem \" + \" \" + str(idade )+ \" \" + \" de idade ? \" )"
   ],
   "outputs": [
    {
     "name": "stdout",
     "output_type": "stream",
     "text": [
      "Seja Bem-vindo(a) Bruno  Correa voce tem  28  de idade ? \n"
     ]
    }
   ],
   "execution_count": 17
  },
  {
   "metadata": {
    "id": "lWSwR3FJXKVk"
   },
   "cell_type": "markdown",
   "source": ""
  },
  {
   "cell_type": "markdown",
   "source": [
    "**Exercício 2: Calculadora de média**\n",
    "\n",
    "Crie um programa em Python que solicite ao usuário que insira as notas das três provas. Em seguida, o programa deve calcular a média dessas notas e exibir o resultado para o usuário.\n",
    "\n",
    "Certifique-se de utilizar os comandos print, input e variáveis para realizar a operação."
   ],
   "metadata": {
    "id": "VOn3GDxFXKwd"
   }
  },
  {
   "cell_type": "code",
   "source": [
    "nota1 = float(input(\"Digite a primeira nota: \"))\n",
    "nota2 = float(input(\"Digite a segunda nota: \"))\n",
    "nota3 = float(input(\"Digite a terceira nota: \"))\n",
    "\n",
    "media = (nota1 + nota2 + nota3) / 3\n",
    "\n",
    "print(\"Sua média é: \", media)"
   ],
   "metadata": {
    "id": "T_JqFzWqXK8O",
    "ExecuteTime": {
     "end_time": "2025-09-10T23:39:42.403115Z",
     "start_time": "2025-09-10T23:39:39.816724Z"
    }
   },
   "outputs": [
    {
     "name": "stdout",
     "output_type": "stream",
     "text": [
      "Sua média é:  2.0\n"
     ]
    }
   ],
   "execution_count": 38
  },
  {
   "metadata": {},
   "cell_type": "markdown",
   "source": [
    "Exercício Extra 1: Soma de dois números\n",
    "\n",
    "###Desenvolva um programa em Python que solicite ao usuário que digite dois números e exiba a soma entre eles."
   ]
  },
  {
   "metadata": {
    "ExecuteTime": {
     "end_time": "2025-09-10T23:45:49.128745Z",
     "start_time": "2025-09-10T23:45:45.920698Z"
    }
   },
   "cell_type": "code",
   "source": [
    "num1 = float(input(\"Digite o primeiro numero : \"))\n",
    "num2 = float(input(\"Digite o segundo numero: \"))\n",
    "soma = num1 + num2\n",
    "\n",
    "print(\"Soma foi: \" , soma)"
   ],
   "outputs": [
    {
     "name": "stdout",
     "output_type": "stream",
     "text": [
      "Soma foi:  4.0\n"
     ]
    }
   ],
   "execution_count": 39
  },
  {
   "metadata": {},
   "cell_type": "markdown",
   "source": [
    "#Exercício Extra 2: Dobro de um número\n",
    "\n",
    "Crie um programa em Python que peça ao usuário um número e exiba o dobro desse valor."
   ]
  },
  {
   "metadata": {
    "ExecuteTime": {
     "end_time": "2025-09-10T23:48:13.586247Z",
     "start_time": "2025-09-10T23:48:11.105810Z"
    }
   },
   "cell_type": "code",
   "source": [
    "numero = int(input(\"Um numero inteiro: \"))\n",
    "multiplicado = numero * 2\n",
    "\n",
    "print(\"Numero x 2 = \" , multiplicado)"
   ],
   "outputs": [
    {
     "name": "stdout",
     "output_type": "stream",
     "text": [
      "Numero x 2 =  4\n"
     ]
    }
   ],
   "execution_count": 41
  },
  {
   "metadata": {},
   "cell_type": "markdown",
   "source": [
    "#Exercício Extra 3: Numero x ele  de\n",
    "\n",
    "Crie um programa em Python que peça ao usuário um número e faça ele vezes ele"
   ]
  },
  {
   "metadata": {
    "ExecuteTime": {
     "end_time": "2025-09-10T23:49:47.275894Z",
     "start_time": "2025-09-10T23:49:43.395030Z"
    }
   },
   "cell_type": "code",
   "source": [
    "numero = int(input(\"Um numero inteiro: \"))\n",
    "multiplicadoPorEle = numero * numero\n",
    "print(\"Numero x Numero = \" , multiplicadoPorEle)"
   ],
   "outputs": [
    {
     "name": "stdout",
     "output_type": "stream",
     "text": [
      "Numero x Numero =  16\n"
     ]
    }
   ],
   "execution_count": 42
  },
  {
   "metadata": {},
   "cell_type": "markdown",
   "source": [
    "Exercício Extra 4: Divisão inteira\n",
    "\n",
    "Desenvolva um programa em Python que solicite ao usuário dois números inteiros. O programa deve calcular a divisão inteira entre eles utilizando o operador // e exibir o resultado."
   ]
  },
  {
   "metadata": {
    "ExecuteTime": {
     "end_time": "2025-09-10T23:57:26.830481Z",
     "start_time": "2025-09-10T23:57:24.167871Z"
    }
   },
   "cell_type": "code",
   "source": [
    "num1 = int(input(\"Digite o primeiro numero (inteiro): \"))\n",
    "num2 = int(input(\"Digite o segundo numero (inteiro): \"))\n",
    "\n",
    "divisao = num1 // num2\n",
    "\n",
    "print(\"Numero 1 // numero 2 = \", divisao)\n"
   ],
   "outputs": [
    {
     "name": "stdout",
     "output_type": "stream",
     "text": [
      "Numero 1 // numero 2 =  1\n"
     ]
    }
   ],
   "execution_count": 50
  },
  {
   "metadata": {},
   "cell_type": "markdown",
   "source": [
    "Exercício Extra 5: Conversão para número inteiroCrie um programa em Python que solicite ao usuário que digite um valor numérico (com casas decimais). Em seguida, o programa deve converter esse valor para o tipo inteiro (int) e mostrar o resultado da conversão.\n",
    "\n",
    "Exemplo de funcionamento esperado:\n",
    "\t•\tSe o usuário digitar 12.7, o programa deve exibir 12.\n",
    "\t•\tSe digitar 9.99, o programa deve exibir 9.\n",
    "\n",
    "\n"
   ]
  },
  {
   "metadata": {
    "ExecuteTime": {
     "end_time": "2025-09-11T00:04:48.868472Z",
     "start_time": "2025-09-11T00:04:43.341763Z"
    }
   },
   "cell_type": "code",
   "source": [
    "valor = input(\"digite um valor com casa decimais (ex:5.5)\")\n",
    "valor_float = float(valor)\n",
    "valor_inteiro = int(valor_float)\n",
    "\n",
    "print(\"valor digitado foi :\", valor_float)\n",
    "print(\"valor inteiro convertido :\", valor_inteiro)\n"
   ],
   "outputs": [
    {
     "name": "stdout",
     "output_type": "stream",
     "text": [
      "valor digitado foi : 3.3\n",
      "valor inteiro convertido : 3\n"
     ]
    }
   ],
   "execution_count": 59
  },
  {
   "metadata": {},
   "cell_type": "markdown",
   "source": [
    "Exercício Extra 6: Comparação de números\n",
    "\n",
    "Crie um programa em Python que peça dois números ao usuário. O programa deve verificar se o primeiro número é maior que o segundo.\n",
    "\t•\tSe for maior → o resultado será True\n",
    "\t•\tCaso contrário → o resultado será False\n"
   ]
  },
  {
   "metadata": {
    "ExecuteTime": {
     "end_time": "2025-09-11T00:07:03.167854Z",
     "start_time": "2025-09-11T00:06:59.929449Z"
    }
   },
   "cell_type": "code",
   "source": [
    "num1 = float(input(\"Digite o primeiro número: \"))\n",
    "num2 = float(input(\"Digite o segundo número: \"))\n",
    "\n",
    "resultado = num1 > num2\n",
    "\n",
    "print(\"O primeiro número é maior que o segundo?\", resultado)\n"
   ],
   "outputs": [
    {
     "name": "stdout",
     "output_type": "stream",
     "text": [
      "O primeiro número é maior que o segundo? False\n"
     ]
    }
   ],
   "execution_count": 61
  },
  {
   "metadata": {},
   "cell_type": "markdown",
   "source": [
    "Exercício Extra 7: Comparação de menor que\n",
    "\n",
    "Crie um programa em Python que peça dois números ao usuário. O programa deve verificar se o primeiro número é menor que o segundo.\n",
    "\t•\tSe for menor → o resultado será True\n",
    "\t•\tCaso contrário → o resultado será False\n"
   ]
  },
  {
   "metadata": {
    "ExecuteTime": {
     "end_time": "2025-09-11T00:09:35.624835Z",
     "start_time": "2025-09-11T00:09:32.204467Z"
    }
   },
   "cell_type": "code",
   "source": [
    "num1 = float(input(\"Digite o primeiro número: \"))\n",
    "num2 = float(input(\"Digite o segundo número: \"))\n",
    "\n",
    "resultado = num1 <= num2\n",
    "\n",
    "print(print(\"O primeiro número é menor que o segundo?\", resultado))"
   ],
   "outputs": [
    {
     "name": "stdout",
     "output_type": "stream",
     "text": [
      "O primeiro número é menor que o segundo? False\n",
      "None\n"
     ]
    }
   ],
   "execution_count": 63
  },
  {
   "metadata": {},
   "cell_type": "markdown",
   "source": [
    "Exercício Extra 8: Verificação de diferença\n",
    "\n",
    "Crie um programa em Python que peça dois valores ao usuário. O programa deve verificar se os valores são diferentes e mostrar o resultado em forma booleana (True ou False).\n"
   ]
  },
  {
   "metadata": {
    "ExecuteTime": {
     "end_time": "2025-09-11T00:11:49.513230Z",
     "start_time": "2025-09-11T00:11:46.938269Z"
    }
   },
   "cell_type": "code",
   "source": [
    "num1 = float(input(\"Digite o primeiro número: \"))\n",
    "num2 = float(input(\"Digite o segundo número: \"))\n",
    "\n",
    "resultado = num1 != num2\n",
    "\n",
    "print(\"Os valores são diferentes?\", resultado)"
   ],
   "outputs": [
    {
     "name": "stdout",
     "output_type": "stream",
     "text": [
      "Os valores são diferentes? False\n"
     ]
    }
   ],
   "execution_count": 65
  },
  {
   "metadata": {},
   "cell_type": "markdown",
   "source": [
    "Exercício Extra 9: Verificação de igualdade\n",
    "\n",
    "Crie um programa em Python que peça dois números e verifique se eles são iguais. O resultado deve ser mostrado como True ou False.\n"
   ]
  },
  {
   "metadata": {
    "ExecuteTime": {
     "end_time": "2025-09-11T00:13:48.721801Z",
     "start_time": "2025-09-11T00:13:45.849997Z"
    }
   },
   "cell_type": "code",
   "source": [
    "num1 = float(input(\"Digite o primeiro número: \"))\n",
    "num2 = float(input(\"Digite o segundo número: \"))\n",
    "\n",
    "resultado= num1 == num2\n",
    "\n",
    "print(\"Os valores são iguais ?\", resultado)"
   ],
   "outputs": [
    {
     "name": "stdout",
     "output_type": "stream",
     "text": [
      "Os valores são iguais ? True\n"
     ]
    }
   ],
   "execution_count": 67
  },
  {
   "metadata": {},
   "cell_type": "markdown",
   "source": [
    "Exercício Extra 10: Verificação de maior ou igual\n",
    "\n",
    "Desenvolva um programa em Python que solicite dois números ao usuário e verifique se o primeiro número é maior ou igual ao segundo. O resultado deve ser mostrado em forma booleana (True ou False)."
   ]
  },
  {
   "metadata": {
    "ExecuteTime": {
     "end_time": "2025-09-11T00:15:04.124850Z",
     "start_time": "2025-09-11T00:15:00.160801Z"
    }
   },
   "cell_type": "code",
   "source": [
    "num1 = float(input(\"Digite o primeiro número: \"))\n",
    "num2 = float(input(\"Digite o segundo número: \"))\n",
    "\n",
    "resultado = num1 >= num2\n",
    "\n",
    "print(\"O primeiro numero é maior ou  igual ou segundo ?\", resultado)"
   ],
   "outputs": [
    {
     "name": "stdout",
     "output_type": "stream",
     "text": [
      "O primeiro numero é maior ou  igual ou segundo ? False\n"
     ]
    }
   ],
   "execution_count": 70
  },
  {
   "metadata": {},
   "cell_type": "code",
   "outputs": [],
   "execution_count": null,
   "source": ""
  }
 ]
}
