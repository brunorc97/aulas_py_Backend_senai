{
 "cells": [
  {
   "metadata": {},
   "cell_type": "markdown",
   "source": "# Exercícios de Funções em Python",
   "id": "9f2457ad77fa4903"
  },
  {
   "cell_type": "markdown",
   "id": "2551625e",
   "metadata": {
    "id": "2551625e"
   },
   "source": [
    "## Introdução ao uso de funções em Python. Funções são blocos de código que nos permitem organizar e reutilizar tarefas em nossos programas. Elas são uma parte fundamental da programação e nos ajudam a escrever código mais limpo, eficiente e modular.\n",
    "\n",
    "## Para praticar o que aprendemos, temos uma série de exercícios que envolvem o uso de funções básicas para realizar cálculos simples. \n",
    "\n",
    "## Vocês deverão CRIAR e CHAMAR funções que resolvam os problemas propostos. Lembre-se de usar nomes significativos para suas funções e variáveis, para que o código seja claro e compreensível."
   ]
  },
  {
   "cell_type": "markdown",
   "id": "08f7146e",
   "metadata": {
    "id": "08f7146e"
   },
   "source": [
    "## Exercício 1: Calcular a área de um retângulo\n",
    "### Situação Problema: Você está construindo um jardim retangular em sua casa. A largura do jardim é 5 metros e o comprimento é 8 metros. Qual é a área total do jardim?"
   ]
  },
  {
   "cell_type": "code",
   "id": "ae5991fe",
   "metadata": {
    "id": "ae5991fe",
    "ExecuteTime": {
     "end_time": "2025-10-09T22:59:04.506766Z",
     "start_time": "2025-10-09T22:59:04.502121Z"
    }
   },
   "source": [
    "def area_retangulo (largura,comprimento):\n",
    "    return  largura * comprimento\n",
    "\n",
    "area_jardim = area_retangulo(5,8)\n",
    "print(\"A area total do Jardim sera de \", area_jardim, \"metros quadrados\")\n",
    "\n",
    "\n",
    "\n"
   ],
   "outputs": [
    {
     "name": "stdout",
     "output_type": "stream",
     "text": [
      "A area total do Jardim sera de  40 metros quadrados\n"
     ]
    }
   ],
   "execution_count": 5
  },
  {
   "cell_type": "markdown",
   "id": "97281d1e",
   "metadata": {
    "id": "97281d1e"
   },
   "source": [
    "## Exercício 2: Converter Celsius para Fahrenheit\n",
    "### Situação Problema: Você está em um país onde a temperatura é medida em Fahrenheit. A temperatura atual é 25 graus Celsius. Qual é a temperatura equivalente em Fahrenheit?"
   ]
  },
  {
   "cell_type": "code",
   "id": "542fb22f",
   "metadata": {
    "id": "542fb22f",
    "ExecuteTime": {
     "end_time": "2025-10-09T23:04:07.481143Z",
     "start_time": "2025-10-09T23:04:07.477323Z"
    }
   },
   "source": [
    "def converteCelsius (celsius):\n",
    "    return celsius * 9 / 5 + 32\n",
    "\n",
    "print(\"No Brasil agora está 25 graus\")\n",
    "print(\"Mas aqui onde vc está\" , converteCelsius(25) , \"Fahrenheit\" )\n",
    "\n",
    "\n",
    "# Exibe o resultado\n",
    "\n",
    "\n"
   ],
   "outputs": [
    {
     "name": "stdout",
     "output_type": "stream",
     "text": [
      "No Brasil agora está 25 graus\n",
      "Mas aqui onde vc está 77.0 Fahrenheit\n"
     ]
    }
   ],
   "execution_count": 15
  },
  {
   "cell_type": "markdown",
   "id": "2482556d",
   "metadata": {
    "id": "2482556d"
   },
   "source": [
    "## Exercício 3: Calcular o perímetro de um quadrado\n",
    "### Situação Problema: Você está construindo um tapete quadrado para a sala de estar. Cada lado do tapete mede 3 metros. Qual é o perímetro total do tapete?"
   ]
  },
  {
   "cell_type": "code",
   "id": "8663622b",
   "metadata": {
    "id": "8663622b",
    "ExecuteTime": {
     "end_time": "2025-10-09T23:35:28.599040Z",
     "start_time": "2025-10-09T23:35:28.593011Z"
    }
   },
   "source": [
    "def areaTapete(metrosComprimento):\n",
    "    return metrosComprimento * 4\n",
    "\n",
    "print(\"Perimetro igual :\", areaTapete(3), \"metros\")"
   ],
   "outputs": [
    {
     "name": "stdout",
     "output_type": "stream",
     "text": [
      "Perimetro igual : 12 metros\n"
     ]
    }
   ],
   "execution_count": 30
  },
  {
   "cell_type": "markdown",
   "id": "6566c32d",
   "metadata": {
    "id": "6566c32d"
   },
   "source": [
    "## Exercício 4: Calcular a média ponderada de três notas\n",
    "### Situação Problema: Você está estudando para três disciplinas diferentes. Suas notas são: 7.0 em Matemática, 8.5 em Ciências e 9.5 em História. Se a Matemática tem peso 2, Ciências tem peso 3 e História tem peso 5, qual é a sua média ponderada?\n",
    "\n"
   ]
  },
  {
   "cell_type": "code",
   "id": "47ffec72",
   "metadata": {
    "id": "47ffec72",
    "ExecuteTime": {
     "end_time": "2025-10-10T00:18:52.153083Z",
     "start_time": "2025-10-10T00:18:52.148174Z"
    }
   },
   "source": [
    "\n",
    "def mediaPonderada(matematica, ciencias, historia):\n",
    "    peso_matematica = 2\n",
    "    peso_ciencias = 3\n",
    "    peso_historia = 5\n",
    "\n",
    "    # cálculo da média ponderada\n",
    "    media = (matematica * peso_matematica + ciencias * peso_ciencias + historia * peso_historia) / (\n",
    "                peso_matematica + peso_ciencias + peso_historia)\n",
    "    return media\n",
    "\n",
    "\n",
    "# chamando a função corretamente\n",
    "resultado = mediaPonderada(7.0, 8.5, 9.5)\n",
    "\n",
    "print(\"Média geral somando Matemática, Ciências e História e dividindo pelos pesos =\", resultado )\n",
    "\n",
    "\n"
   ],
   "outputs": [
    {
     "name": "stdout",
     "output_type": "stream",
     "text": [
      "Média geral somando Matemática, Ciências e História e dividindo pelos pesos = 8.7\n"
     ]
    }
   ],
   "execution_count": 67
  },
  {
   "cell_type": "markdown",
   "id": "5cd84c49",
   "metadata": {
    "id": "5cd84c49"
   },
   "source": [
    "## Exercício 5: Converter quilômetros para milhas\n",
    "### Situação Problema: Você está planejando uma viagem de carro. O percurso tem 200 quilômetros de extensão. Qual é a distância equivalente em milhas?\n",
    "\n",
    "\n",
    "\n",
    "\n"
   ]
  },
  {
   "cell_type": "code",
   "id": "63d8b4bf",
   "metadata": {
    "id": "63d8b4bf",
    "ExecuteTime": {
     "end_time": "2025-10-10T00:08:43.030253Z",
     "start_time": "2025-10-10T00:08:43.026062Z"
    }
   },
   "source": [
    "def converte_KM_Milhas(km):\n",
    "    return km * 0.621371\n",
    "\n",
    "print(\"Convertendo 200km rodados em Milhas , fica: \",converte_KM_Milhas(200),\"milhas\")\n",
    "\n",
    "\n"
   ],
   "outputs": [
    {
     "name": "stdout",
     "output_type": "stream",
     "text": [
      "Convertendo 200km rodados em Milhas , fica:  124.27420000000001 milhas\n"
     ]
    }
   ],
   "execution_count": 65
  }
 ],
 "metadata": {
  "colab": {
   "provenance": []
  },
  "kernelspec": {
   "display_name": "Python 3 (ipykernel)",
   "language": "python",
   "name": "python3"
  },
  "language_info": {
   "codemirror_mode": {
    "name": "ipython",
    "version": 3
   },
   "file_extension": ".py",
   "mimetype": "text/x-python",
   "name": "python",
   "nbconvert_exporter": "python",
   "pygments_lexer": "ipython3",
   "version": "3.11.4"
  }
 },
 "nbformat": 4,
 "nbformat_minor": 5
}
