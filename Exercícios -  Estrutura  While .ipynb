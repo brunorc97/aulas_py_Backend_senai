{
 "cells": [
  {
   "cell_type": "markdown",
   "id": "39f9a7fb",
   "metadata": {
    "id": "39f9a7fb"
   },
   "source": [
    "# Desafios de Treinamento em Python com o Loop While\n",
    "\n",
    "\n",
    "\n",
    "#### \"Desafios de Treinamento em Python com o Loop While\"! Você está prestes a embarcar em uma jornada emocionante para aprimorar suas habilidades de programação usando a linguagem Python. Os exercícios que apresentamos aqui foram projetados para proporcionar a você uma compreensão sólida e prática do loop while, uma ferramenta poderosa que permite que seu código execute repetidamente enquanto uma condição for verdadeira.\n",
    "\n",
    "#### À medida que você trabalha nesses exercícios, você estará mergulhando em situações do mundo real, resolvendo problemas e construindo soluções criativas usando o loop while. Essa é uma oportunidade incrível para fortalecer sua lógica de programação e sua capacidade de transformar conceitos abstratos em código funcional.\n",
    "\n",
    "##### Cada exercício apresenta uma situação desafiadora que requer o uso eficaz do loop while. Ao enfrentar esses desafios, você não apenas dominará os aspectos técnicos da linguagem Python, mas também desenvolverá uma abordagem analítica para resolver problemas complexos de maneira iterativa e estruturada.\n",
    "\n",
    "#### Lembre-se de que a prática é fundamental para aprimorar suas habilidades. Reserve um tempo para entender completamente cada exercício, experimentar diferentes abordagens e testar suas soluções. Se encontrar dificuldades, não hesite em pesquisar documentações, tutoriais e recursos online para obter insights adicionais."
   ]
  },
  {
   "cell_type": "code",
   "source": [
    "numero = int(input(\"Digite um número para ver sua tabuada: \"))\n",
    "\n",
    "i = 1\n",
    "while i <= 10:\n",
    "    print(f\"{numero} x {i} = {numero * i}\")\n",
    "    i += 1\n",
    "import random\n",
    "\n",
    "numero_secreto = random.randint(1, 100)\n",
    "tentativas = 0\n",
    "acertou = False\n",
    "\n",
    "print(\"Tente adivinhar o número entre 1 e 100!\")\n",
    "\n",
    "while not acertou:\n",
    "    palpite = int(input(\"Digite seu palpite: \"))\n",
    "    tentativas += 1\n",
    "\n",
    "    if palpite == numero_secreto:\n",
    "        acertou = True\n",
    "        print(\"Parabéns! Você acertou o número em\", tentativas, \"tentativas.\")\n",
    "    elif palpite < numero_secreto:\n",
    "        print(\"O número é maior.\")\n",
    "    else:\n",
    "        print(\"O número é menor.\")\n",
    "venda = [250, 330, 440, 540, 350, 250, 368, 40, 250, 30, 30]\n",
    "vendedores = ['maria', 'mara', 'joão', 'silva', 'santos', 'mario', 'carlos', 'marly', 'xuxa', 'chica', 'zinha']\n",
    "meta = 50\n",
    "\n",
    "i = 0\n",
    "\n",
    "while i < len(venda):\n",
    "    if venda[i] >= meta:\n",
    "        print('{} atingiu a meta de vendas: {}'.format(vendedores[i], venda[i]))\n",
    "    i += 1\n"
   ],
   "metadata": {
    "colab": {
     "base_uri": "https://localhost:8080/"
    },
    "id": "MagDtXJ5iR4Z",
    "executionInfo": {
     "status": "ok",
     "timestamp": 1691437576461,
     "user_tz": 180,
     "elapsed": 317,
     "user": {
      "displayName": "Johnny Braga",
      "userId": "03578342034079492651"
     }
    },
    "outputId": "0ae28f56-c6a1-45b7-d17b-c061dfc8f1a3"
   },
   "id": "MagDtXJ5iR4Z",
   "outputs": [],
   "execution_count": null
  },
  {
   "cell_type": "markdown",
   "id": "cb724eb6",
   "metadata": {
    "id": "cb724eb6"
   },
   "source": [
    "## Exercício 1: Contagem regressiva\n",
    "Situação Problema: Você está lançando um foguete espacial e deseja fazer uma contagem regressiva a partir de 10 até o lançamento. Escreva um programa que imprima os números de 30 a 1, indicando a contagem regressiva.\n",
    "\n"
   ]
  },
  {
   "metadata": {},
   "cell_type": "code",
   "source": [
    "i = 30\n",
    "\n",
    "while i > 0:\n",
    "    print(\"Segundos para o lançamento:\", i)\n",
    "    i -= 1\n",
    "\n",
    "print(\"Lançamento!\")"
   ],
   "id": "13ac5336b74c3184",
   "outputs": [],
   "execution_count": null
  },
  {
   "cell_type": "markdown",
   "id": "59c8b30f",
   "metadata": {
    "id": "59c8b30f"
   },
   "source": [
    "### Exercício 2: Soma até certo limite\n",
    "Situação Problema: Você está jogando um jogo em que precisa somar números inteiros sequencialmente até que a soma ultrapasse 20. Escreva um programa que calcule e exiba a soma desses números.\n",
    "\n"
   ]
  },
  {
   "cell_type": "code",
   "id": "718fd861",
   "metadata": {
    "id": "718fd861"
   },
   "source": [
    "soma = 0\n",
    "numero = 1\n",
    "\n",
    "while soma <= 20:\n",
    "    soma += numero\n",
    "    print(\"Número:\", numero, \" | Soma parcial:\", soma)\n",
    "    numero += 1\n",
    "\n",
    "print(\"Soma final:\", soma)"
   ],
   "outputs": [],
   "execution_count": null
  },
  {
   "cell_type": "markdown",
   "id": "d32b617c",
   "metadata": {
    "id": "d32b617c"
   },
   "source": [
    "### Exercício 3: Adivinhe o número\n",
    "Situação Problema: Você está brincando de adivinhar o número que um computador escolheu entre 1 e 100. Cada vez que você adivinha, o computador lhe dirá se o número é maior ou menor. Escreva um programa que permita que o jogador adivinhe o número e conte quantas tentativas foram necessárias.\n",
    "\n"
   ]
  },
  {
   "cell_type": "code",
   "id": "3cc36712",
   "metadata": {
    "id": "3cc36712"
   },
   "source": [
    "import random\n",
    "\n",
    "numero_secreto = random.randint(1, 100)\n",
    "tentativas = 0\n",
    "acertou = False\n",
    "\n",
    "print(\"Tente adivinhar o número entre 1 e 100!\")\n",
    "\n",
    "while not acertou:\n",
    "    palpite = int(input(\"Digite seu palpite: \"))\n",
    "    tentativas += 1\n",
    "\n",
    "    if palpite == numero_secreto:\n",
    "        acertou = True\n",
    "        print(\"Parabéns! Você acertou o número em\", tentativas, \"tentativas.\")\n",
    "    elif palpite < numero_secreto:\n",
    "        print(\"O número é maior.\")\n",
    "    else:\n",
    "        print(\"O número é menor.\")"
   ],
   "outputs": [],
   "execution_count": null
  },
  {
   "cell_type": "markdown",
   "id": "0e3b71f0",
   "metadata": {
    "id": "0e3b71f0"
   },
   "source": [
    "### Exercício 4: Tabuada\n",
    "Situação Problema: Você é um estudante tentando aprender a tabuada. Escreva um programa que peça um número ao usuário e, em seguida, exiba a tabuada desse número, de 1 a 10.\n",
    "\n"
   ]
  },
  {
   "cell_type": "code",
   "id": "a7bc5188",
   "metadata": {
    "id": "a7bc5188"
   },
   "source": [
    "numero = int(input(\"Digite um número para ver sua tabuada: \"))\n",
    "\n",
    "i = 1\n",
    "while i <= 10:\n",
    "    print(f\"{numero} x {i} = {numero * i}\")\n",
    "    i += 1"
   ],
   "outputs": [],
   "execution_count": null
  },
  {
   "cell_type": "markdown",
   "id": "e2a66077",
   "metadata": {
    "id": "e2a66077"
   },
   "source": [
    "### Exercício 5: Soma de números pares\n",
    "Situação Problema: Você está tentando calcular a soma de todos os números pares de 2 a 100. Escreva um programa que realize essa tarefa.\n",
    "\n"
   ]
  },
  {
   "cell_type": "code",
   "id": "31d1cff6",
   "metadata": {
    "id": "31d1cff6"
   },
   "source": [
    "soma = 0\n",
    "numero = 2\n",
    "\n",
    "while numero <= 100:\n",
    "    soma += numero\n",
    "    numero += 2\n",
    "\n",
    "print(\"A soma de todos os números pares de 2 a 100 é:\", soma)"
   ],
   "outputs": [],
   "execution_count": null
  },
  {
   "cell_type": "markdown",
   "id": "037a9f93",
   "metadata": {
    "id": "037a9f93"
   },
   "source": [
    "### Exercício 6: Média de números\n",
    "Situação Problema: Você é um professor que deseja calcular a média das notas de seus alunos. Escreva um programa que permita que o professor insira as notas dos alunos e calcule a média.\n",
    "\n"
   ]
  },
  {
   "cell_type": "code",
   "id": "1620e4a6",
   "metadata": {
    "id": "1620e4a6"
   },
   "source": [
    "###\n",
    "total = 0\n",
    "quantidade = 0\n",
    "\n",
    "continuar = \"s\"\n",
    "\n",
    "while continuar.lower() == \"s\":\n",
    "    nota = float(input(\"Digite a nota do aluno: \"))\n",
    "    total += nota\n",
    "    quantidade += 1\n",
    "    continuar = input(\"Deseja inserir outra nota? (s/n): \")\n",
    "\n",
    "if quantidade > 0:\n",
    "    media = total / quantidade\n",
    "    print(\"A média das notas é:\", media)\n",
    "else:\n",
    "    print(\"Nenhuma nota foi inserida.\")"
   ],
   "outputs": [],
   "execution_count": null
  },
  {
   "cell_type": "markdown",
   "id": "a9357fa1",
   "metadata": {
    "id": "a9357fa1"
   },
   "source": [
    "### Exercício 7: Fatorial\n",
    "Situação Problema: Você está resolvendo problemas matemáticos e precisa calcular o fatorial de um número inteiro. Escreva um programa que calcule e exiba o fatorial de um número dado.\n",
    "\n"
   ]
  },
  {
   "cell_type": "code",
   "id": "d2e14a06",
   "metadata": {
    "id": "d2e14a06"
   },
   "source": [
    "numero = int(input(\"Digite um número para calcular o fatorial: \"))\n",
    "fatorial = 1\n",
    "i = 1\n",
    "\n",
    "while i <= numero:\n",
    "    fatorial *= i\n",
    "    i += 1\n",
    "\n",
    "print(f\"O fatorial de {numero} é {fatorial}\")"
   ],
   "outputs": [],
   "execution_count": null
  },
  {
   "cell_type": "markdown",
   "id": "a0150711",
   "metadata": {
    "id": "a0150711"
   },
   "source": [
    "### Exercício 8: Números primos\n",
    "Situação Problema: Você está explorando números primos e deseja verificar se um determinado número é primo. Escreva um programa que permita que o usuário insira um número e determine se ele é primo ou não.\n",
    "\n"
   ]
  },
  {
   "cell_type": "code",
   "id": "0d14fbb8",
   "metadata": {
    "id": "0d14fbb8"
   },
   "source": [
    "numero = int(input(\"Digite um número para verificar se é primo: \"))\n",
    "if numero < 2:\n",
    "    print(f\"{numero} não é primo.\")\n",
    "else:\n",
    "    i = 2\n",
    "    primo = True\n",
    "    while i <= numero // 2:\n",
    "        if numero % i == 0:\n",
    "            primo = False\n",
    "            break\n",
    "        i += 1\n",
    "    if primo:\n",
    "        print(f\"{numero} é primo.\")\n",
    "    else:\n",
    "        print(f\"{numero} não é primo.\")"
   ],
   "outputs": [],
   "execution_count": null
  },
  {
   "cell_type": "markdown",
   "id": "f44c34b5",
   "metadata": {
    "id": "f44c34b5"
   },
   "source": [
    "### Exercício 9: Soma até ultrapassar valor\n",
    "Situação Problema: Você está tentando descobrir quantos números inteiros precisam ser somados sequencialmente até que a soma total seja maior que 100. Escreva um programa que realize esse cálculo.\n"
   ]
  },
  {
   "cell_type": "code",
   "id": "bf9de2aa",
   "metadata": {
    "id": "bf9de2aa"
   },
   "source": [
    "soma = 0\n",
    "numero = 1\n",
    "\n",
    "while soma <= 100:\n",
    "    soma += numero\n",
    "    numero += 1\n",
    "\n",
    "print(f\"Foram necessários {numero - 1} números para que a soma ultrapassasse 100. Soma final: {soma}\")"
   ],
   "outputs": [],
   "execution_count": null
  },
  {
   "cell_type": "markdown",
   "id": "9d8dca7a",
   "metadata": {
    "id": "9d8dca7a"
   },
   "source": [
    "\n",
    "### Exercício 10: Validando entrada numérica\n",
    "Situação Problema: Você está criando um programa que requer entrada numérica do usuário. No entanto, você deseja garantir que a entrada seja válida. Escreva um programa que solicite ao usuário um número e continue pedindo até que um número válido seja inserido.\n",
    "\n"
   ]
  },
  {
   "cell_type": "code",
   "id": "1ef94e86",
   "metadata": {
    "id": "1ef94e86"
   },
   "source": [
    "while True:\n",
    "    entrada = input(\"Digite um número válido: \")\n",
    "    try:\n",
    "        numero = float(entrada)\n",
    "        print(f\"Você digitou o número {numero}\")\n",
    "        break\n",
    "    except ValueError:\n",
    "        print(\"Entrada inválida. Tente novamente.\")"
   ],
   "outputs": [],
   "execution_count": null
  },
  {
   "cell_type": "markdown",
   "id": "c89c29ca",
   "metadata": {
    "id": "c89c29ca"
   },
   "source": [
    "### Exercício 11: Jogo de adivinhação com dicas\n",
    "Situação Problema: Você está jogando um jogo de adivinhação onde precisa adivinhar um número entre 1 e 100. O computador fornecerá dicas para orientar suas suposições. Escreva um programa que permita que você jogue esse jogo.\n",
    "\n"
   ]
  },
  {
   "cell_type": "code",
   "id": "f23e238a",
   "metadata": {
    "id": "f23e238a"
   },
   "source": [
    "import random\n",
    "numero_secreto = random.randint(1, 100)\n",
    "tentativas = 0\n",
    "acertou = False\n",
    "\n",
    "print(\"Tente adivinhar o número entre 1 e 100!\")\n",
    "\n",
    "while not acertou:\n",
    "    palpite = int(input(\"Digite seu palpite: \"))\n",
    "    tentativas += 1\n",
    "\n",
    "    if palpite == numero_secreto:\n",
    "        acertou = True\n",
    "        print(\"Parabéns! Você acertou o número em\", tentativas, \"tentativas.\")\n",
    "    elif palpite < numero_secreto:\n",
    "        print(\"O número é maior.\")\n",
    "    else:\n",
    "        print(\"O número é menor.\")"
   ],
   "outputs": [],
   "execution_count": null
  },
  {
   "cell_type": "markdown",
   "id": "0a89370c",
   "metadata": {
    "id": "0a89370c"
   },
   "source": [
    "numero_secreto = random.randint(1, 100)\n",
    "tentativas = 0\n",
    "acertou = False\n",
    "\n",
    "print(\"Tente adivinhar o número entre 1 e 100!\")\n",
    "\n",
    "while not acertou:\n",
    "    palpite = int(input(\"Digite seu palpite: \"))\n",
    "    tentativas += 1\n",
    "\n",
    "    if palpite == numero_secreto:\n",
    "        acertou = True\n",
    "        print(\"Parabéns! Você acertou o número em\", tentativas, \"tentativas.\")\n",
    "    elif palpite < numero_secreto:\n",
    "        print(\"O número é maior.\")\n",
    "    else:\n",
    "        print(\"O número é menor.\")### Exercício 12: Contagem de vogais\n",
    "Situação Problema: Você está analisando palavras e deseja saber quantas vogais cada palavra contém. Escreva um programa que conte e exiba o número de vogais em uma palavra inserida pelo usuário.\n",
    "\n"
   ]
  },
  {
   "cell_type": "code",
   "id": "51b3893c",
   "metadata": {
    "id": "51b3893c"
   },
   "source": [
    "palavra = input(\"Digite uma palavra: \").lower()\n",
    "vogais = \"aeiou\"\n",
    "contador = 0\n",
    "i = 0\n",
    "while i < len(palavra):\n",
    "    if palavra[i] in vogais:\n",
    "        contador += 1\n",
    "    i += 1\n",
    "\n",
    "print(f\"A palavra '{palavra}' contém {contador} vogais.\")"
   ],
   "outputs": [],
   "execution_count": null
  },
  {
   "cell_type": "markdown",
   "id": "4999df99",
   "metadata": {
    "id": "4999df99"
   },
   "source": [
    "### Exercício 13: Média de notas com validação\n",
    "Situação Problema: Você é um professor que deseja calcular a média das notas de seus alunos. No entanto, você também deseja validar as notas para garantir que estejam dentro de um intervalo adequado. Escreva um programa que permita que o professor insira as notas dos alunos, valide-as e calcule a média."
   ]
  },
  {
   "cell_type": "code",
   "id": "7e356ced",
   "metadata": {
    "id": "7e356ced"
   },
   "source": [
    "total = 0\n",
    "quantidade = 0\n",
    "continuar = \"s\"\n",
    "\n",
    "while continuar.lower() == \"s\":\n",
    "    nota = float(input(\"Digite a nota do aluno (0 a 10): \"))\n",
    "    while nota < 0 or nota > 10:\n",
    "        print(\"Nota inválida! Digite uma nota entre 0 e 10.\")\n",
    "        nota = float(input(\"Digite a nota do aluno (0 a 10): \"))\n",
    "    total += nota\n",
    "    quantidade += 1\n",
    "    continuar = input(\"Deseja inserir outra nota? (s/n): \")\n",
    "\n",
    "if quantidade > 0:\n",
    "    media = total / quantidade\n",
    "    print(\"A média das notas é:\", media)\n",
    "else:\n",
    "    print(\"Nenhuma nota foi inserida.\")\n"
   ],
   "outputs": [],
   "execution_count": null
  },
  {
   "metadata": {},
   "cell_type": "markdown",
   "source": [
    "# Exercícios\n",
    "\n",
    "## 1. Input até o usuário parar\n",
    "\n",
    "Vamos criar um sistema de vendas. Nosso programa deve registrar os produtos e as quantidades (2 inputs) e adicionar em uma lista.\n",
    "\n",
    "O programa deve continuar rodando até o input ser vazio, ou seja, o usuário apertar enter sem digitar nenhum produto ou quantidade.\n",
    "\n",
    "Ao final do programa, ele deve printar todos os produtos e quantidades vendidas.\n",
    "\n",
    "Obs: Caso queira, para o print ficar mais visual, pode usar o join para cada item ser printado em uma linha.\n",
    "Sugestão para sua lista de produtos vendidos:\n"
   ],
   "id": "403eea9b33bf8f63"
  },
  {
   "metadata": {
    "ExecuteTime": {
     "end_time": "2025-09-30T22:49:30.593467Z",
     "start_time": "2025-09-30T22:49:17.384897Z"
    }
   },
   "cell_type": "code",
   "source": [
    "    vendas = []\n",
    "\n",
    "while True:\n",
    "    produto = input(\"Produto (pressione Enter para finalizar): \").strip()\n",
    "    if produto == \"\":\n",
    "        break\n",
    "    quantidade = input(\"Quantidade: \").strip()\n",
    "    if quantidade == \"\":\n",
    "        print(\"Quantidade vazia. Encerrando sem registrar este item.\")\n",
    "        break\n",
    "    vendas.append(f\"{produto} - {quantidade}\")\n",
    "\n",
    "print(\"\\nProdutos vendidos:\")\n",
    "if vendas:\n",
    "    print(\"\\n\".join(vendas))\n",
    "else:\n",
    "    print(\"Nenhuma venda registrada.\")"
   ],
   "id": "813a865df0042c59",
   "outputs": [
    {
     "name": "stdout",
     "output_type": "stream",
     "text": [
      "\n",
      "Produtos vendidos:\n",
      "abacate - 2\n"
     ]
    }
   ],
   "execution_count": 11
  }
 ],
 "metadata": {
  "kernelspec": {
   "display_name": "Python 3 (ipykernel)",
   "language": "python",
   "name": "python3"
  },
  "language_info": {
   "codemirror_mode": {
    "name": "ipython",
    "version": 3
   },
   "file_extension": ".py",
   "mimetype": "text/x-python",
   "name": "python",
   "nbconvert_exporter": "python",
   "pygments_lexer": "ipython3",
   "version": "3.10.9"
  },
  "colab": {
   "provenance": []
  }
 },
 "nbformat": 4,
 "nbformat_minor": 5
}
