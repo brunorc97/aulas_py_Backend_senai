{
 "cells": [
  {
   "metadata": {},
   "cell_type": "markdown",
   "source": [
    "### Revisão da aula anterior:\n",
    "- print() - imprime na tela\n",
    "- string, int , float, bool - tipo de dados\n",
    "- str() , int() , float (), bool () - funções para converter tipos de dados\n",
    "- (+ - * ** / // %) operadores aritméticos para efetuar contas\n",
    "- (== < > =< >= !=) operadores de comparação"
   ],
   "id": "dbc927e2b6231830"
  },
  {
   "metadata": {},
   "cell_type": "markdown",
   "source": [
    "### Variáveis\n",
    "- As variaveis são como \"caixas\"que guardam um valor na memoria do computador.\n",
    "- Uma variavel sempre vai ter um nome e o Valor que ela carrega.\n",
    "- O NOME serve para o programador saber o que tem lá dentro.\n",
    "- O VALOR é quem sempre será acessado e utilizado pelo seu programa.\n",
    "- Sempre use nomes curtos e objetivos indicando que está armazenado naquela variavel."
   ],
   "id": "21aade11307e690d"
  },
  {
   "metadata": {
    "ExecuteTime": {
     "end_time": "2025-09-10T22:17:08.875383Z",
     "start_time": "2025-09-10T22:17:08.870780Z"
    }
   },
   "cell_type": "code",
   "source": [
    "from types import prepare_class\n",
    "\n",
    "mensagem = \"Olá Mundo!\"\n",
    "print(mensagem)"
   ],
   "id": "5cb64e75ab34cb02",
   "outputs": [
    {
     "name": "stdout",
     "output_type": "stream",
     "text": [
      "Olá Mundo!\n"
     ]
    }
   ],
   "execution_count": 3
  },
  {
   "metadata": {
    "ExecuteTime": {
     "end_time": "2025-09-10T22:17:47.140763Z",
     "start_time": "2025-09-10T22:17:47.136957Z"
    }
   },
   "cell_type": "code",
   "source": "print(mensagem.upper())",
   "id": "cee968ab1e4790aa",
   "outputs": [
    {
     "name": "stdout",
     "output_type": "stream",
     "text": [
      "OLÁ MUNDO!\n"
     ]
    }
   ],
   "execution_count": 4
  },
  {
   "metadata": {
    "ExecuteTime": {
     "end_time": "2025-09-10T22:18:07.965542Z",
     "start_time": "2025-09-10T22:18:07.961945Z"
    }
   },
   "cell_type": "code",
   "source": "print(mensagem.lower())",
   "id": "3804f0ab9889ccca",
   "outputs": [
    {
     "name": "stdout",
     "output_type": "stream",
     "text": [
      "olá mundo!\n"
     ]
    }
   ],
   "execution_count": 5
  },
  {
   "metadata": {
    "ExecuteTime": {
     "end_time": "2025-09-10T22:29:55.343226Z",
     "start_time": "2025-09-10T22:29:55.340258Z"
    }
   },
   "cell_type": "code",
   "source": [
    "nome = (\"Bruno\")\n",
    "idade = 28\n",
    "\n",
    "print(nome, idade)"
   ],
   "id": "7666299234b8751a",
   "outputs": [
    {
     "name": "stdout",
     "output_type": "stream",
     "text": [
      "Bruno 28\n"
     ]
    }
   ],
   "execution_count": 6
  },
  {
   "metadata": {
    "ExecuteTime": {
     "end_time": "2025-09-10T22:32:23.712362Z",
     "start_time": "2025-09-10T22:32:23.708741Z"
    }
   },
   "cell_type": "code",
   "source": [
    "nome = \"Bruno\"\n",
    "idade = 28\n",
    "print(nome + \" \" + str(idade)) # com espaço\n",
    "\n",
    "nome = \"Bruno\"\n",
    "idade = 28\n",
    "print(nome+str(idade)) # sem espaco"
   ],
   "id": "3bb33bf0a179ca35",
   "outputs": [
    {
     "name": "stdout",
     "output_type": "stream",
     "text": [
      "Bruno 28\n",
      "Bruno28\n"
     ]
    }
   ],
   "execution_count": 9
  },
  {
   "metadata": {
    "ExecuteTime": {
     "end_time": "2025-09-10T22:34:04.973928Z",
     "start_time": "2025-09-10T22:34:04.971197Z"
    }
   },
   "cell_type": "code",
   "source": [
    "preco=100\n",
    "desconto=20\n",
    "\n",
    "print(preco-desconto)"
   ],
   "id": "63e820e20629b904",
   "outputs": [
    {
     "name": "stdout",
     "output_type": "stream",
     "text": [
      "80\n"
     ]
    }
   ],
   "execution_count": 12
  },
  {
   "metadata": {},
   "cell_type": "code",
   "outputs": [],
   "execution_count": null,
   "source": [
    "\n",
    "# Exemplo: cálculo de desconto em porcentagem (%)\n",
    "preco = 100\n",
    "desconto_percentual = 20  # 20%\n",
    "valor_desconto = preco * (desconto_percentual / 100)\n",
    "preco_final = preco - valor_desconto\n",
    "\n",
    "print(\"Preço final com desconto de\", desconto_percentual, \"%:\", preco_final)\n"
   ],
   "id": "c11184f5adee2645"
  },
  {
   "metadata": {},
   "cell_type": "code",
   "outputs": [],
   "execution_count": null,
   "source": [
    "# Outra forma de calcular desconto em porcentagem\n",
    "preco = 100\n",
    "desconto_percentual = 15  # 15%\n",
    "preco_final = preco * (1 - desconto_percentual / 100)\n",
    "\n",
    "print(\"Preço final com desconto de\", desconto_percentual, \"%:\", preco_final)\n"
   ],
   "id": "8c92266343ea4e8d"
  },
  {
   "metadata": {
    "ExecuteTime": {
     "end_time": "2025-09-10T22:43:04.509327Z",
     "start_time": "2025-09-10T22:42:42.105896Z"
    }
   },
   "cell_type": "code",
   "source": [
    "# Exemplo de uso de input() -- Igual o Scanner do Java\n",
    "nome = input(\"Digite seu nome: \")\n",
    "idade = input(\"Digite sua idade: \")\n",
    "print(\"Olá\", nome + \"! Você tem\", idade, \"anos.\")"
   ],
   "id": "9c27932855debb1d",
   "outputs": [
    {
     "name": "stdout",
     "output_type": "stream",
     "text": [
      "Olá Bruno \n",
      "! Você tem 28 anos.\n"
     ]
    }
   ],
   "execution_count": 13
  },
  {
   "metadata": {},
   "cell_type": "code",
   "outputs": [],
   "execution_count": null,
   "source": "",
   "id": "a5e232530f7a897"
  }
 ],
 "metadata": {
  "kernelspec": {
   "display_name": "Python 3",
   "language": "python",
   "name": "python3"
  },
  "language_info": {
   "codemirror_mode": {
    "name": "ipython",
    "version": 2
   },
   "file_extension": ".py",
   "mimetype": "text/x-python",
   "name": "python",
   "nbconvert_exporter": "python",
   "pygments_lexer": "ipython2",
   "version": "2.7.6"
  }
 },
 "nbformat": 4,
 "nbformat_minor": 5
}
