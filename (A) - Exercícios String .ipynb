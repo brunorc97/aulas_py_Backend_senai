{
 "cells": [
  {
   "cell_type": "markdown",
   "metadata": {
    "id": "qR4XYPOucXUC"
   },
   "source": [
    "# Exercícios\n",
    "\n",
    "## 1. Cadastro de CPF\n",
    "\n",
    "Crie um programa para cadastro de CPF de clientes que recebe o CPF em um input box apenas com números.\n",
    "\n",
    "Ex: 'Insira seu CPF (digite apenas números)'\n",
    "\n",
    "Caso o usuário digite algo diferente de números ou digite menos de 11 caracteres (tamanho do CPF brasileiro), o programa deve exibir uma mensagem de \"Digite seu CPF corretamente e digite apenas números\""
   ]
  },
  {
   "cell_type": "code",
   "metadata": {
    "id": "GrMXqiGJcXUE",
    "ExecuteTime": {
     "end_time": "2025-09-23T23:01:22.812348Z",
     "start_time": "2025-09-23T23:01:12.272166Z"
    }
   },
   "source": [
    "cpf = input(\"Insira seu CPF (digite apenas números): \")\n",
    "if not cpf.isdigit() or len(cpf) != 11:\n",
    "    print(\"Digite seu CPF corretamente e digite apenas números\")\n",
    "else:\n",
    "    print(\"CPF cadastrado com sucesso:\", cpf)\n"
   ],
   "outputs": [
    {
     "name": "stdout",
     "output_type": "stream",
     "text": [
      "CPF cadastrado com sucesso: 41612176844\n"
     ]
    }
   ],
   "execution_count": 2
  },
  {
   "cell_type": "markdown",
   "metadata": {
    "id": "N8qzOPxFcXUE"
   },
   "source": [
    "## 2. Melhorando nosso Cadastro de CPF\n",
    "\n",
    "Agora, além das validações anteriores, vamos criar um input que permita que o usuário insira pontos, traços e inclusive espaços vazios.\n",
    "\n",
    "Nosso programa deve \"tratar\" o que o usuário inserir para padronizar o CPF dele em apenas números.\n",
    "\n",
    "A verificação de tamanho do CPF com 11 caracteres continua válida, mas ela só deve ser feita depois de retirar todos os pontos, traços e espaços do CPF que o cliente inserir e, uma vez retirados pontos, traços e espaços, devem sobrar apenas números no CPF. Qualquer outro caractere deve ser considerado inválido.\n",
    "\n",
    "No final, nosso programa deve exibir uma mensagem para o usuário, caso ele tenha inserido o CPF inválido ou então apenas deve printar o CPF correto já só com número."
   ]
  },
  {
   "cell_type": "code",
   "metadata": {
    "id": "YszGWbnZcXUE",
    "ExecuteTime": {
     "end_time": "2025-09-23T23:01:42.762178Z",
     "start_time": "2025-09-23T23:01:27.733698Z"
    }
   },
   "source": [
    "cpf_input = input(\"Insira seu CPF (pode conter pontos, traços e espaços): \")\n",
    "# Remove dots, dashes and spaces\n",
    "cpf_clean = cpf_input.replace(\".\", \"\").replace(\"-\", \"\").replace(\" \", \"\")\n",
    "\n",
    "if len(cpf_clean) != 11 or not cpf_clean.isdigit():\n",
    "    print(\"Digite seu CPF corretamente e digite apenas números\")\n",
    "else:\n",
    "    print(\"CPF cadastrado com sucesso:\", cpf_clean)\n"
   ],
   "outputs": [
    {
     "name": "stdout",
     "output_type": "stream",
     "text": [
      "CPF cadastrado com sucesso: 41612176844\n"
     ]
    }
   ],
   "execution_count": 3
  },
  {
   "cell_type": "markdown",
   "metadata": {
    "id": "fQBFL2zgcXUF"
   },
   "source": [
    "## 3. Cadastro de e-mails\n",
    "\n",
    "- O SENAI sempre se comunica com seus clientes por e-mail. Para isso, a gente tem em cada página um cadastro de nome e e-mail. Nesse cadastro, nosso sistema verifica se o e-mail que a pessoa inseriu é um e-mail válido, verificando se ele tem '@' e se depois do '@' tem algum ponto, afinal:\n",
    "\n",
    "- andersongmail.com NÃO é um e-mail válido\n",
    "- anderson@gmail NÃO é um e-mail válido\n",
    "- anderson@gmail.com é um e-mail válido\n",
    "\n",
    "Crie um programa que permita o cadastro de nome e e-mail de uma pessoa (por meio de inputs) e que verifique:\n",
    "1. Se nome e e-mail foram preenchidos, caso contrário ele deve avisar para preencher todos os dados corretamente\n",
    "2. Se o e-mail contém '@' e se depois do '@' existe algum '.', caso contrário ele deve exibir uma mensagem de e-mail inválido\n",
    "\n",
    "Obs: Pode te ajudar lembrar do método .find da aula de Métodos de String. Você pode testar o que ele dá como resposta caso ele não encontre um item dentro da string"
   ]
  },
  {
   "metadata": {
    "ExecuteTime": {
     "end_time": "2025-09-23T23:02:04.713029Z",
     "start_time": "2025-09-23T23:01:48.735386Z"
    }
   },
   "cell_type": "code",
   "source": [
    "nome = input(\"Digite seu nome: \").strip()\n",
    "email = input(\"Digite seu e-mail: \").strip()\n",
    "\n",
    "if not nome or not email:\n",
    "    print(\"Por favor, preencha todos os dados corretamente.\")\n",
    "else:\n",
    "    at_pos = email.find('@')\n",
    "    if at_pos == -1:\n",
    "        print(\"E-mail inválido: falta '@'.\")\n",
    "    else:\n",
    "        dot_pos = email.find('.', at_pos)\n",
    "        if dot_pos == -1:\n",
    "            print(\"E-mail inválido: falta '.' após '@'.\")\n",
    "        else:\n",
    "            print(f\"Cadastro realizado com sucesso para {nome} com o e-mail {email}.\")\n"
   ],
   "outputs": [
    {
     "name": "stdout",
     "output_type": "stream",
     "text": [
      "Cadastro realizado com sucesso para bruno com o e-mail bruno.correa@outlook.com.\n"
     ]
    }
   ],
   "execution_count": 4
  },
  {
   "cell_type": "markdown",
   "source": [
    "### DESAFIO 4: Mesmo que um CPF tenha os 11 digitos, ele pode não ser válido.\n",
    "### Existe um algoritmo específico que processa o CPF e diz sele é válido ou não\n",
    "### Voce pode consultar este algoritmo no site: https://dicasdeprogramacao.com.br/algoritmo-para-validar-cpf/\n",
    "### Aprimore o exercicio 1 para que, além de tratar a entrada do usuário,  o programa irá implementar o algoritmo de validação oficial, e dizer se o CPF é válido ou não"
   ],
   "metadata": {
    "id": "Z6CskC7mDYkw"
   }
  },
  {
   "cell_type": "code",
   "source": [
    "def validar_cpf(cpf):\n",
    "    # CPF must be 11 digits\n",
    "    if len(cpf) != 11 or not cpf.isdigit():\n",
    "        return False\n",
    "\n",
    "    # Invalid CPFs with all digits equal\n",
    "    if cpf == cpf[0] * 11:\n",
    "        return False\n",
    "\n",
    "    # Calcula o primeiro dígito verificador\n",
    "    soma = 0\n",
    "    for i in range(9):\n",
    "        soma += int(cpf[i]) * (10 - i)\n",
    "    resto = soma % 11\n",
    "    if resto < 2:\n",
    "        digito1 = 0\n",
    "    else:\n",
    "        digito1 = 11 - resto\n",
    "\n",
    "    # Calcula o segundo dígito verificador\n",
    "    soma = 0\n",
    "    for i in range(10):\n",
    "        soma += int(cpf[i]) * (11 - i)\n",
    "    resto = soma % 11\n",
    "    if resto < 2:\n",
    "        digito2 = 0\n",
    "    else:\n",
    "        digito2 = 11 - resto\n",
    "\n",
    "    return (int(cpf[9]) == digito1) and (int(cpf[10]) == digito2)\n",
    "\n",
    "cpf_input = input(\"Insira seu CPF (pode conter pontos, traços e espaços): \")\n",
    "cpf_clean = cpf_input.replace(\".\", \"\").replace(\"-\", \"\").replace(\" \", \"\")\n",
    "\n",
    "if len(cpf_clean) != 11 or not cpf_clean.isdigit():\n",
    "    print(\"Digite seu CPF corretamente e digite apenas números\")\n",
    "else:\n",
    "    if validar_cpf(cpf_clean):\n",
    "        print(\"CPF válido:\", cpf_clean)\n",
    "    else:\n",
    "        print(\"CPF inválido:\", cpf_clean)# seu código aqui"
   ],
   "metadata": {
    "id": "kIbdo_36DQg3",
    "ExecuteTime": {
     "end_time": "2025-09-23T23:02:16.666323Z",
     "start_time": "2025-09-23T23:02:09.719228Z"
    }
   },
   "outputs": [
    {
     "name": "stdout",
     "output_type": "stream",
     "text": [
      "CPF válido: 41612176844\n"
     ]
    }
   ],
   "execution_count": 5
  }
 ],
 "metadata": {
  "kernelspec": {
   "display_name": "Python 3",
   "language": "python",
   "name": "python3"
  },
  "language_info": {
   "codemirror_mode": {
    "name": "ipython",
    "version": 3
   },
   "file_extension": ".py",
   "mimetype": "text/x-python",
   "name": "python",
   "nbconvert_exporter": "python",
   "pygments_lexer": "ipython3",
   "version": "3.8.3"
  },
  "colab": {
   "provenance": []
  }
 },
 "nbformat": 4,
 "nbformat_minor": 0
}
