{
 "cells": [
  {
   "metadata": {},
   "cell_type": "markdown",
   "source": "",
   "id": "6d92ca2d2720d4d4"
  },
  {
   "cell_type": "markdown",
   "id": "fe872b31",
   "metadata": {
    "id": "fe872b31"
   },
   "source": [
    "# Exercícios - LISTAS\n",
    "\n",
    "### Neste conjunto de exercícios, você será desafiado a aplicar os conceitos aprendidos sobre listas em Python. Os exercícios abrangem operações como criação de listas, remoção de elementos, adição de itens, índices, uso de list comprehensions e muito mais. Siga as instruções de cada exercício e tente resolver utilizando apenas o código dentro do script."
   ]
  },
  {
   "cell_type": "markdown",
   "id": "ced88942",
   "metadata": {
    "id": "ced88942"
   },
   "source": [
    "### 1 - Crie uma lista contendo os nomes de 5 países. Peça ao usuário para inserir o nome de mais um país. Em seguida, verifique se o país fornecido pelo usuário está na lista e exiba uma mensagem informando se ele está ou não na lista."
   ]
  },
  {
   "cell_type": "code",
   "id": "a0921d54",
   "metadata": {
    "id": "a0921d54",
    "ExecuteTime": {
     "end_time": "2025-09-24T22:43:33.318912Z",
     "start_time": "2025-09-24T22:43:28.741773Z"
    }
   },
   "source": [
    "cores = [\"Vermelho\", \"Azul\", \"Verde\", \"Amarelo\", \"Roxo\"]\n",
    "\n",
    "cor_usuario = input(\"Digite o nome de uma cor: \")\n",
    "\n",
    "if cor_usuario in cores:\n",
    "    cores.remove(cor_usuario)\n",
    "    print(f\"A cor {cor_usuario} foi removida.\")\n",
    "    print(\"Lista atualizada de cores:\", cores)\n",
    "else:\n",
    "    print(f\"A cor {cor_usuario} não foi encontrada na lista.\")\n",
    "\n",
    "paises = [\"Brasil\", \"Argentina\", \"Chile\", \"Uruguai\", \"Paraguai\"]\n",
    "\n",
    "novo_pais = input(\"Digite o nome de mais um país: \")\n",
    "\n",
    "if novo_pais in paises:\n",
    "    print(f\"{novo_pais} está na lista.Os Países da Lista são {paises}\")\n",
    "else:\n",
    "    print(f\"{novo_pais} não está na lista.Os Países da Lista são {paises}\")\n",
    "\n",
    "\n"
   ],
   "outputs": [
    {
     "name": "stdout",
     "output_type": "stream",
     "text": [
      "Jamaica\n",
      " não está na lista.Os Países da Lista são ['Brasil', 'Argentina', 'Chile', 'Uruguai', 'Paraguai']\n"
     ]
    }
   ],
   "execution_count": 4
  },
  {
   "cell_type": "markdown",
   "id": "e63dc0cd",
   "metadata": {
    "id": "e63dc0cd"
   },
   "source": [
    "### 2 - Crie uma lista contendo os preços de 5 produtos. Em seguida, calcule e exiba o preço médio desses produtos."
   ]
  },
  {
   "cell_type": "code",
   "id": "fbe16db3",
   "metadata": {
    "id": "fbe16db3",
    "ExecuteTime": {
     "end_time": "2025-09-24T22:52:35.838701Z",
     "start_time": "2025-09-24T22:52:35.832490Z"
    }
   },
   "source": [
    "# Lista de produtos\n",
    "produtos = [\"Teclado\", \"Mouse\", \"Headset\", \"Pen Drive 32GB\", \"Webcam\"]\n",
    "precos = [99.90, 59.90, 149.90, 29.90, 199.90]\n",
    "\n",
    "# Cálculo da média dos preços\n",
    "media = sum(precos) / len(precos)\n",
    "\n",
    "# Exibição formatada\n",
    "print(\"Produtos e preços:\")\n",
    "for nome, preco in zip(produtos, precos):\n",
    "    print(f\"- {nome}: R$ {preco:.2f}\")\n",
    "\n",
    "print(f\"\\nPreço médio dos produtos: R$ {media:.2f}\")\n",
    "\n"
   ],
   "outputs": [
    {
     "name": "stdout",
     "output_type": "stream",
     "text": [
      "Produtos e preços:\n",
      "- Teclado: R$ 99.90\n",
      "- Mouse: R$ 59.90\n",
      "- Headset: R$ 149.90\n",
      "- Pen Drive 32GB: R$ 29.90\n",
      "- Webcam: R$ 199.90\n",
      "\n",
      "Preço médio dos produtos: R$ 107.90\n"
     ]
    }
   ],
   "execution_count": 5
  },
  {
   "cell_type": "markdown",
   "id": "a6c25a88",
   "metadata": {
    "id": "a6c25a88"
   },
   "source": [
    "  ### 3 - Crie uma lista com 5 cores diferentes. Peça ao usuário para inserir o nome de uma cor. Se a cor estiver na lista, remova-a e exiba a lista atualizada. Caso contrário, exiba uma mensagem informando que a cor não foi encontrada."
   ]
  },
  {
   "cell_type": "code",
   "id": "0e451513",
   "metadata": {
    "id": "0e451513",
    "ExecuteTime": {
     "end_time": "2025-09-24T23:03:20.900173Z",
     "start_time": "2025-09-24T23:03:13.875580Z"
    }
   },
   "source": [
    "cores = [\"Vermelho\", \"Azul\", \"Verde\", \"Amarelo\", \"Roxo\"]\n",
    "\n",
    "cor_usuario = input(\"Digite o nome de uma cor: \")\n",
    "\n",
    "if cor_usuario in cores:\n",
    "    cores.remove(cor_usuario)\n",
    "    print(f\"A cor {cor_usuario} foi removida.\")\n",
    "    print(\"Lista atualizada de cores:\", cores)\n",
    "else:\n",
    "    print(f\"A cor {cor_usuario} não foi encontrada na lista.\")\n"
   ],
   "outputs": [
    {
     "name": "stdout",
     "output_type": "stream",
     "text": [
      "A cor black não foi encontrada na lista.\n"
     ]
    }
   ],
   "execution_count": 1
  },
  {
   "metadata": {},
   "cell_type": "markdown",
   "source": "### 4 - Crie uma lista com 10 números inteiros. Em seguida, exiba apenas os números pares dessa lista.\n",
   "id": "85775d23c9cc972"
  },
  {
   "metadata": {
    "ExecuteTime": {
     "end_time": "2025-09-24T23:42:28.489065Z",
     "start_time": "2025-09-24T23:42:28.482747Z"
    }
   },
   "cell_type": "code",
   "source": [
    "numeros = [1, 2, 3, 4, 5, 6, 7, 8, 9, 10]\n",
    "\n",
    "pares = [n for n in numeros if n % 2 == 0]\n",
    "\n",
    "print(\"Números originais:\", numeros)\n",
    "print(\"Números pares:\", pares)"
   ],
   "id": "22b3cbc9e3bf9c3a",
   "outputs": [
    {
     "name": "stdout",
     "output_type": "stream",
     "text": [
      "Números originais: [1, 2, 3, 4, 5, 6, 7, 8, 9, 10]\n",
      "Números pares: [2, 4, 6, 8, 10]\n"
     ]
    }
   ],
   "execution_count": 2
  }
 ],
 "metadata": {
  "kernelspec": {
   "display_name": "Python 3 (ipykernel)",
   "language": "python",
   "name": "python3"
  },
  "language_info": {
   "codemirror_mode": {
    "name": "ipython",
    "version": 3
   },
   "file_extension": ".py",
   "mimetype": "text/x-python",
   "name": "python",
   "nbconvert_exporter": "python",
   "pygments_lexer": "ipython3",
   "version": "3.11.3"
  },
  "colab": {
   "provenance": []
  }
 },
 "nbformat": 4,
 "nbformat_minor": 5
}
