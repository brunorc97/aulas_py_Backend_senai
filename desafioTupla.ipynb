{
 "cells": [
  {
   "cell_type": "code",
   "id": "initial_id",
   "metadata": {
    "collapsed": true,
    "ExecuteTime": {
     "end_time": "2025-10-03T00:03:48.654508Z",
     "start_time": "2025-10-03T00:03:48.648246Z"
    }
   },
   "source": [
    "vendas = [\n",
    "    ('20/08/2020', 'iphone x', 'azul', '128gb', 350, 4000),\n",
    "    ('20/08/2020', 'iphone x', 'prata', '128gb', 1500, 4000),\n",
    "    ('20/08/2020', 'ipad', 'prata', '256gb', 127, 6000),\n",
    "    ('20/08/2020', 'ipad', 'prata', '128gb', 981, 5000),\n",
    "    ('21/08/2020', 'iphone x', 'azul', '128gb', 397, 4000),\n",
    "    ('21/08/2020', 'iphone x', 'prata', '128gb', 1017, 4000),\n",
    "    ('21/08/2020', 'ipad', 'prata', '256gb', 50, 6000),\n",
    "    ('21/08/2020', 'ipad', 'prata', '128gb', 4000, 5000),\n",
    "]\n",
    "\n",
    "# 1) Qual foi o faturamento no dia 20/08/2020?\n",
    "faturamento =0\n",
    "for registro in vendas:\n",
    "    data, produto, cor, capacidade, unidades_vendidas, preco_unitario = registro\n",
    "    if data == '20/08/2020' and produto == 'iphone x':\n",
    "        faturamento += preco_unitario * unidades_vendidas\n",
    "\n",
    "print(f\"Faturamento em 20/08/2020: R${faturamento:,.2f}\")\n",
    "\n",
    "# 2) Qual o produto mais vendido em unidades no dia 21/08/2020?\n",
    "vendas_2108 = {}\n",
    "for data, produto, cor, capacidade, unidades, preco in vendas:\n",
    "    if data == '21/08/2020':\n",
    "        vendas_2108[produto] = vendas_2108.get(produto, 0) + unidades\n",
    "\n",
    "mais_vendido = max(vendas_2108, key=vendas_2108.get)\n",
    "print(f\"Produto mais vendido em 21/08/2020: {mais_vendido} ({vendas_2108[mais_vendido]} unidades)\")"
   ],
   "outputs": [
    {
     "name": "stdout",
     "output_type": "stream",
     "text": [
      "Faturamento em 20/08/2020: R$7,400,000.00\n",
      "Produto mais vendido em 21/08/2020: ipad (4050 unidades)\n"
     ]
    }
   ],
   "execution_count": 12
  }
 ],
 "metadata": {
  "kernelspec": {
   "display_name": "Python 3",
   "language": "python",
   "name": "python3"
  },
  "language_info": {
   "codemirror_mode": {
    "name": "ipython",
    "version": 2
   },
   "file_extension": ".py",
   "mimetype": "text/x-python",
   "name": "python",
   "nbconvert_exporter": "python",
   "pygments_lexer": "ipython2",
   "version": "2.7.6"
  }
 },
 "nbformat": 4,
 "nbformat_minor": 5
}
