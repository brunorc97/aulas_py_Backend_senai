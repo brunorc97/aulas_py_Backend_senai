{
 "cells": [
  {
   "cell_type": "markdown",
   "metadata": {
    "id": "F1Ik5NeluJQT"
   },
   "source": [
    "# Exercícios\n",
    "\n",
    "## 1. Criando um Registro de Hóspedes\n",
    "\n",
    "Digamos que você está criando o sistema para registrar a chegada de hóspedes em um hotel. No hotel, os hóspedes podem ter quartos com 1, 2, 3 e 4 pessoas. Seu sistema deve conseguir:\n",
    "\n",
    "1. Identificar quantas pessoas o hóspede que acabou de chegar vai ter no quarto (perguntando por meio de input)\n",
    "2. De acordo com a quantidade de pessoas do hóspede, ele deve fazer um for para perguntar o cpf e o nome de cada pessoa, a fim de registrá-la no quarto (2 inputs para cada pessoa, 1 para o cpf e outro para o nome)\n",
    "3. O seu programa então deve gerar uma lista com todas as pessoas que ficarão no quarto em que cada item dessa lista é o nome da pessoa e o cpf da pessoa, assim:"
   ]
  },
  {
   "cell_type": "raw",
   "metadata": {
    "id": "uigr45bQuJQY"
   },
   "source": [
    "quarto = [\n",
    "    ['João', 'cpf:00000000000'],\n",
    "    ['Julia', 'cpf:11111111111'],\n",
    "    ['Marcus', 'cpf:22222222222'],\n",
    "    ['Maria', 'cpf:33333333333'],\n",
    "]"
   ]
  },
  {
   "cell_type": "markdown",
   "metadata": {
    "id": "D-wNECCEuJQZ"
   },
   "source": [
    "- Para simplificar, não vamos nos preocupar com possibilidades de \"tentar colocar mais de 1 hóspede, digitar o cpf errado, etc. Nosso objetivo é treinar a criação de uma rotina de cadastro"
   ]
  },
  {
   "cell_type": "code",
   "metadata": {
    "id": "yr8t51J5uJQa",
    "ExecuteTime": {
     "end_time": "2025-09-26T00:32:46.488010Z",
     "start_time": "2025-09-26T00:32:09.290156Z"
    }
   },
   "source": [
    "# função simples para validar cpf (só aceita 11 dígitos numéricos)\n",
    "# aqui eu criei uma função para garantir que o cpf digitado pelo usuário\n",
    "# seja composto apenas por números e tenha exatamente 11 dígitos.\n",
    "# uso .isdigit() → retorna true se todos os caracteres forem números\n",
    "# uso len(cpf) → retorna a quantidade de caracteres da string\n",
    "def validar_cpf(cpf):\n",
    "    return cpf.isdigit() and len(cpf) == 11\n",
    "\n",
    "\n",
    "# lista que vai guardar todos os quartos\n",
    "# cada quarto será uma lista dentro da lista \"quartos\".\n",
    "quartos = []\n",
    "\n",
    "# pergunto quantos quartos quero registrar\n",
    "# input() sempre retorna string, por isso uso int() para transformar em número inteiro\n",
    "quantidade_quartos = int(input(\"quantos quartos você deseja registrar? \"))\n",
    "\n",
    "# loop para cada quarto\n",
    "# uso range(quantidade_quartos) → gera uma sequência de 0 até quantidade_quartos-1\n",
    "# exemplo: range(3) → [0, 1, 2]\n",
    "for numero_quarto in range(quantidade_quartos):\n",
    "\n",
    "    # validação: só aceita número para a quantidade de hóspedes (máximo 4)\n",
    "    # uso while true → cria um loop infinito até o usuário digitar corretamente\n",
    "    while True:\n",
    "        try:\n",
    "            quantidade_hospedes = int(input(f\"\\nquantos hóspedes irão se hospedar no quarto {numero_quarto+1}? \"))\n",
    "            # regra extra: o quarto só pode ter entre 1 e 4 pessoas\n",
    "            if 1 <= quantidade_hospedes <= 4:\n",
    "                break  # sai do while se o valor for válido\n",
    "            else:\n",
    "                print(\" o quarto só pode ter entre 1 e 4 hóspedes.\")\n",
    "        except ValueError:\n",
    "            # se o usuário digitar algo que não é número, cai no except\n",
    "            print(\" digite apenas números!\")\n",
    "\n",
    "    # lista para guardar os hóspedes desse quarto\n",
    "    quarto = []\n",
    "\n",
    "    # loop para cadastrar os hóspedes\n",
    "    for i in range(quantidade_hospedes):\n",
    "        # i começa em 0, mas coloco i+1 para mostrar \"1º hóspede\", \"2º hóspede\", etc\n",
    "        nome = input(f\"digite o nome do {i+1}º hóspede: \")\n",
    "\n",
    "        # valida cpf até digitar corretamente\n",
    "        while True:\n",
    "            cpf = input(f\"digite o cpf do {i+1}º hóspede (somente números): \")\n",
    "            if validar_cpf(cpf):  # chama a função criada no início\n",
    "                break  # cpf válido → sai do while\n",
    "            else:\n",
    "                # mensagens para explicar por que o cpf foi rejeitado\n",
    "                if not cpf.isdigit():\n",
    "                    print(\" o cpf deve conter apenas números.\")\n",
    "                elif len(cpf) < 11:\n",
    "                    print(\" o cpf tem menos de 11 dígitos, digite novamente.\")\n",
    "                elif len(cpf) > 11:\n",
    "                    print(\" o cpf tem mais de 11 dígitos, digite novamente.\")\n",
    "                else:\n",
    "                    print(\" cpf inválido, digite novamente.\")\n",
    "\n",
    "        # cada hóspede é registrado como uma lista [nome, cpf]\n",
    "        # uso append() → adiciona um novo item no final da lista\n",
    "        # exemplo: lista = []; lista.append(10) → lista agora é [10]\n",
    "        quarto.append([nome, cpf])\n",
    "\n",
    "    # adiciono a lista \"quarto\" dentro da lista \"quartos\"\n",
    "    # exemplo: quartos.append(quarto) → cria uma lista de listas\n",
    "    quartos.append(quarto)\n",
    "\n",
    "\n",
    "# mostro o resultado formatado\n",
    "print(\"\\n hóspedes registrados:\")\n",
    "\n",
    "# uso enumerate(quartos, start=1) → percorre a lista de quartos,\n",
    "# trazendo ao mesmo tempo o índice (numero_quarto) e o valor (quarto).\n",
    "# start=1 faz começar a contagem no 1, em vez de 0.\n",
    "for numero_quarto, quarto in enumerate(quartos, start=1):\n",
    "    print(f\"\\nquarto {numero_quarto}:\")\n",
    "    for hospede in quarto:\n",
    "        # hospede é uma lista com [nome, cpf]\n",
    "        # hospede[0] → nome\n",
    "        # hospede[1] → cpf\n",
    "        print(f\" - nome: {hospede[0]}, cpf: {hospede[1]}\")"
   ],
   "outputs": [
    {
     "name": "stdout",
     "output_type": "stream",
     "text": [
      " o quarto só pode ter entre 1 e 4 hóspedes.\n",
      " o quarto só pode ter entre 1 e 4 hóspedes.\n",
      "\n",
      " hóspedes registrados:\n",
      "\n",
      "quarto 1:\n",
      " - nome: as, cpf: 11111111111\n",
      " - nome: ds, cpf: 22222222222\n"
     ]
    }
   ],
   "execution_count": 20
  },
  {
   "cell_type": "markdown",
   "metadata": {
    "id": "ru8-Q84huJQb"
   },
   "source": [
    "## 2. Análise de Vendas\n",
    "\n",
    "Nesse exercício vamos fazer uma \"análise simples\" de atingimento de Meta.\n",
    "\n",
    "Temos uma lista com os vendedores e os valores de vendas e queremos identificar (printar) quais os vendedores que bateram a meta e qual foi o valor que eles venderam."
   ]
  },
  {
   "cell_type": "code",
   "metadata": {
    "id": "k1nxy07JuJQc",
    "ExecuteTime": {
     "end_time": "2025-09-26T00:32:55.727371Z",
     "start_time": "2025-09-26T00:32:55.722641Z"
    }
   },
   "source": [
    "meta = 10000\n",
    "vendas = [\n",
    "    ['João', 15000],\n",
    "    ['Julia', 27000],\n",
    "    ['Marcus', 9900],\n",
    "    ['Maria', 3750],\n",
    "    ['Ana', 10300],\n",
    "    ['Alon', 7870],\n",
    "]\n",
    "# percorro a lista de vendas\n",
    "# aqui uso \"desempacotamento\": em vez de usar um índice,\n",
    "# já pego direto o nome (vendedor) e o valor (valor) em cada item da lista\n",
    "for vendedor, valor in vendas:\n",
    "    # verifico se o valor de vendas do vendedor é maior ou igual à meta\n",
    "    if valor >= meta:\n",
    "        # se for, mostro a mensagem dizendo que ele bateu a meta\n",
    "        # f-string → permite colocar variáveis dentro da string com { }\n",
    "        print(f\"{vendedor} bateu a meta com vendas de R$ {valor}\")"
   ],
   "outputs": [
    {
     "name": "stdout",
     "output_type": "stream",
     "text": [
      "João bateu a meta com vendas de R$ 15000\n",
      "Julia bateu a meta com vendas de R$ 27000\n",
      "Ana bateu a meta com vendas de R$ 10300\n"
     ]
    }
   ],
   "execution_count": 21
  },
  {
   "cell_type": "markdown",
   "metadata": {
    "id": "uhaXC5nquJQd"
   },
   "source": [
    "## 3. Comparação com Ano Anterior\n",
    "\n",
    "Digamos que você está analisando as vendas de produtos de um ecommerce e quer identificar quais produtos tiveram no ano de 2020 mais vendas do que no ano de 2019, para reportar isso para a diretoria.\n",
    "\n",
    "Sua resposta pode ser um print de cada produto, qual foi a venda de 2019, a venda de 2020 e o % de crescimento de 2020 para 2019.\n",
    "\n",
    "Lembrando, para calcular o % de crescimento de um produto de um ano para o outro, podemos fazer: (vendas_produto2020/vendas_produto2019 - 1)\n",
    "\n",
    "Dica: lembre do enumerate, ele pode facilitar seu \"for\""
   ]
  },
  {
   "cell_type": "code",
   "metadata": {
    "id": "MpFmwLlauJQd",
    "ExecuteTime": {
     "end_time": "2025-09-26T00:33:01.340115Z",
     "start_time": "2025-09-26T00:33:01.333782Z"
    }
   },
   "source": [
    "produtos = ['iphone', 'galaxy', 'ipad', 'tv', 'máquina de café', 'kindle', 'geladeira', 'adega', 'notebook dell', 'notebook hp', 'notebook asus', 'microsoft surface', 'webcam', 'caixa de som', 'microfone', 'câmera canon']\n",
    "vendas2019 = [558147,712350,573823,405252,718654,531580,973139,892292,422760,154753,887061,438508,237467,489705,328311,591120]\n",
    "vendas2020 = [951642,244295,26964,787604,867660,78830,710331,646016,694913,539704,324831,667179,295633,725316,644622,994303]\n",
    "# percorro a lista de produtos junto com os índices\n",
    "# enumerate(produtos) → me dá ao mesmo tempo o índice (i) e o nome do produto\n",
    "for i, produto in enumerate(produtos):\n",
    "    # pego o valor de vendas de 2019 e 2020 usando o índice i\n",
    "    venda2019 = vendas2019[i]\n",
    "    venda2020 = vendas2020[i]\n",
    "\n",
    "    # verifico se o produto vendeu mais em 2020 do que em 2019\n",
    "    if venda2020 > venda2019:\n",
    "        # calculo o crescimento percentual em relação a 2019\n",
    "        # fórmula: (2020 / 2019 - 1) * 100\n",
    "        crescimento = (venda2020 / venda2019 - 1) * 100\n",
    "\n",
    "        # mostro o nome do produto, os valores e o % de crescimento formatado com 2 casas decimais\n",
    "        print(f\"{produto}: 2019 = R$ {venda2019}, 2020 = R$ {venda2020}, crescimento = {crescimento:.2f}%\")"
   ],
   "outputs": [
    {
     "name": "stdout",
     "output_type": "stream",
     "text": [
      "iphone: 2019 = R$ 558147, 2020 = R$ 951642, crescimento = 70.50%\n",
      "tv: 2019 = R$ 405252, 2020 = R$ 787604, crescimento = 94.35%\n",
      "máquina de café: 2019 = R$ 718654, 2020 = R$ 867660, crescimento = 20.73%\n",
      "notebook dell: 2019 = R$ 422760, 2020 = R$ 694913, crescimento = 64.38%\n",
      "notebook hp: 2019 = R$ 154753, 2020 = R$ 539704, crescimento = 248.75%\n",
      "microsoft surface: 2019 = R$ 438508, 2020 = R$ 667179, crescimento = 52.15%\n",
      "webcam: 2019 = R$ 237467, 2020 = R$ 295633, crescimento = 24.49%\n",
      "caixa de som: 2019 = R$ 489705, 2020 = R$ 725316, crescimento = 48.11%\n",
      "microfone: 2019 = R$ 328311, 2020 = R$ 644622, crescimento = 96.34%\n",
      "câmera canon: 2019 = R$ 591120, 2020 = R$ 994303, crescimento = 68.21%\n"
     ]
    }
   ],
   "execution_count": 22
  }
 ],
 "metadata": {
  "kernelspec": {
   "display_name": "Python 3",
   "language": "python",
   "name": "python3"
  },
  "language_info": {
   "codemirror_mode": {
    "name": "ipython",
    "version": 3
   },
   "file_extension": ".py",
   "mimetype": "text/x-python",
   "name": "python",
   "nbconvert_exporter": "python",
   "pygments_lexer": "ipython3",
   "version": "3.8.3"
  },
  "colab": {
   "provenance": []
  }
 },
 "nbformat": 4,
 "nbformat_minor": 0
}
