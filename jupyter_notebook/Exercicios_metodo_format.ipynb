{
 "cells": [
  {
   "cell_type": "markdown",
   "id": "a220e4e2",
   "metadata": {
    "id": "a220e4e2"
   },
   "source": [
    "## **Exercícios  - Metódo .format**"
   ]
  },
  {
   "cell_type": "markdown",
   "id": "737f7ee0",
   "metadata": {
    "id": "737f7ee0"
   },
   "source": [
    "## Crie programas em python para atender as especificações abaixo."
   ]
  },
  {
   "cell_type": "markdown",
   "id": "b9d7d65b",
   "metadata": {
    "id": "b9d7d65b"
   },
   "source": [
    "# 1 - Faça um programa que peça o nome de um país, a capital e o idioma oficial e exiba uma mensagem com essas informações."
   ]
  },
  {
   "cell_type": "code",
   "id": "1b62af10",
   "metadata": {
    "id": "1b62af10",
    "ExecuteTime": {
     "end_time": "2025-09-11T22:43:27.738211Z",
     "start_time": "2025-09-11T22:43:24.811332Z"
    }
   },
   "source": [
    "import datetime\n",
    "\n",
    "from IPython.terminal.shortcuts.auto_match import auto_match_parens_raw_string\n",
    "from matplotlib.dates import YearLocator\n",
    "from pandas import to_datetime\n",
    "from soupsieve import select\n",
    "\n",
    "from Aula2_Imput_Variaveis import preco, desconto\n",
    "\n",
    "país= input((\"Digite Qual País: \"))\n",
    "capital = input((\"Digite Qual Capital: \"))\n",
    "idioma = input((\"Digite Qual Idioma: \"))\n",
    "\n",
    "print(país, capital, idioma)"
   ],
   "outputs": [
    {
     "name": "stdout",
     "output_type": "stream",
     "text": [
      "a a a\n"
     ]
    }
   ],
   "execution_count": 3
  },
  {
   "cell_type": "markdown",
   "id": "1aa984cf",
   "metadata": {
    "id": "1aa984cf"
   },
   "source": [
    "#  2 - Você foi contratado para desenvolver um programa que auxilie um petshop a gerar mensagens personalizadas para seus clientes. O programa deve solicitar algumas informações do cliente e, em seguida, exibir uma mensagem customizada com base nos dados fornecidos.\n",
    "\n",
    "O programa deve conter as seguintes etapas:\n",
    "\n",
    "Solicitar ao usuário que digite seu nome, o nome do seu pet (animal de estimação) e a espécie do pet (por exemplo, cachorro, gato, pássaro, etc.).\n",
    "\n",
    "Em seguida, peça ao usuário que informe a idade do pet em anos.\n",
    "\n",
    "Solicite também ao usuário que informe se o pet já tomou todas as vacinas obrigatórias (responda com \"Sim\" ou \"Não\").\n",
    "\n",
    "Com base nas informações coletadas, o programa deve gerar uma mensagem personalizada para o cliente. A mensagem deve incluir o nome do cliente, o nome do pet, a espécie do pet, sua idade em anos e se já tomou todas as vacinas obrigatórias."
   ]
  },
  {
   "cell_type": "code",
   "id": "72c15eff",
   "metadata": {
    "id": "72c15eff",
    "ExecuteTime": {
     "end_time": "2025-09-11T22:58:23.491939Z",
     "start_time": "2025-09-11T22:57:59.903675Z"
    }
   },
   "source": [
    "nomeCliente = input(\"Digite o Nome do Cliente: \")\n",
    "nomePet = input(\"Digite o Nome do Pet: \")\n",
    "especieDoPet = input(\"Espécie do pet (por exemplo, cachorro, gato, pássaro, etc): \")\n",
    "idadeDoPet = input(\"Qual a idade do Pet? \")\n",
    "vacinas = input(\"O pet já tomou todas as vacinas obrigatórias? (Sim/Não): \")\n",
    "\n",
    "print(\"O cliente {} é dono do(a) {}, da espécie {}, que tem {} anos e vacinas: {}.\"\n",
    "      .format(nomeCliente, nomePet, especieDoPet, idadeDoPet, vacinas))"
   ],
   "outputs": [
    {
     "name": "stdout",
     "output_type": "stream",
     "text": [
      "O cliente Rodolfo é dono do(a) Catchoro, da espécie Cachorro, que tem 12 anos e vacinas: Não.\n"
     ]
    }
   ],
   "execution_count": 19
  },
  {
   "metadata": {},
   "cell_type": "markdown",
   "source": [
    "# DESAFIO-RELAMPAGO:\n",
    "FAÇA UM PROGRAMA QUE PERGUNTE AO USUARIO O NOME DO PRODUTO, O PRECO, E O DESCONTO, O PROGRAMA ENTAO IRÁ IMPRIMIR DE FORMA CLARA E ORGANIZADA AS INFORMAÇÕES\n",
    "** INCLUINDO O PRECO FINAL COM DESCONTO APLICADO **\n",
    "NO INICIO DEVERA APARECER O NOME DA LOJA E UMA SAUDAÇÃO\n",
    " NO FINAL, DEPOIS DE IMPRIMIR OS DADOS DEVERÁ APARECER VOLTE SEMPRE"
   ],
   "id": "9dd7bf784451d4e9"
  },
  {
   "metadata": {},
   "cell_type": "code",
   "outputs": [],
   "execution_count": null,
   "source": [
    " # Desafio Relâmpago - Metodo format\n",
    "\n",
    "nomeLoja = \"Loja de Ferragens\"\n",
    "\n",
    "print(\"Bem-vindo à {}!\".format(nomeLoja))\n",
    "\n",
    "produto = input(\"Digite o produto que deseja: \")\n",
    "preco = float(input(\"Qual o preço do produto? R$ (ex:2.00)\"))\n",
    "desconto = float(input(\"Qual o desconto do produto (%): \"))\n",
    "\n",
    "\n",
    "preco_final = preco - (preco * desconto / 100)\n",
    "\n",
    "print(\"\\nProduto: {}\\nPreço original: R${:.2f}\\nDesconto: {}%\\nPreço final: R${:.2f}\".format(produto, preco, desconto, preco_final))\n",
    "\n",
    "print(\"\\nMuito obrigado por comprar conosco. Volte sempre!\")"
   ],
   "id": "774705953e291add"
  },
  {
   "metadata": {},
   "cell_type": "markdown",
   "source": [
    "# 3 - Crie um programa que peça ao usuário dois números inteiros.\n",
    " O programa deve exibir:\n",
    " - a soma\n",
    " - a subtração\n",
    " - a multiplicação\n",
    " - a divisão inteira (//)\n",
    " Tudo formatado de forma organizada usando o método .format().\n"
   ],
   "id": "5bdc1f61319acd45"
  },
  {
   "metadata": {},
   "cell_type": "code",
   "outputs": [],
   "execution_count": null,
   "source": [
    "num1 = int(input(\"Digite o primeiro número inteiro: \"))\n",
    "num2 = int(input(\"Digite o segundo número inteiro: \"))\n",
    "\n",
    "print(\"Resultados das operações entre {} e {}:\".format(num1, num2))\n",
    "print(\"Soma: {}\".format(num1 + num2))\n",
    "print(\"Subtração: {}\".format(num1 - num2))\n",
    "print(\"Multiplicação: {}\".format(num1 * num2))\n",
    "print(\"Divisão inteira: {}\".format(num1 // num2))"
   ],
   "id": "a0a89613b90d492d"
  },
  {
   "metadata": {},
   "cell_type": "markdown",
   "source": [
    "# 4 - Crie um programa que peça ao usuário o nome de três filmes favoritos.\n",
    " O programa deve exibir uma mensagem organizada apresentando os três filmes em uma única frase,\n",
    " utilizando o método .format().\n"
   ],
   "id": "2f270fd8972fa588"
  },
  {
   "metadata": {},
   "cell_type": "code",
   "outputs": [],
   "execution_count": null,
   "source": [
    "filme1 = input(\"Digite o primeiro nome do filme: \")\n",
    "filme2 = input(\"Digite o segundo nome do filme: \")\n",
    "filme3 = input(\"Digite o primeiro nome do filme: \")\n",
    "\n",
    "# Os seus tres filmes favoritos são: \\n{}\\n{}\\n{}\".format(filme1, filme2, filme3))\n"
   ],
   "id": "414c55602dc22512"
  },
  {
   "metadata": {},
   "cell_type": "markdown",
   "source": [
    "# 5 - Crie um programa que peça ao usuário três notas de um aluno.\n",
    " O programa deve calcular a média das notas, verificar se o aluno foi aprovado (média >= 5)\n",
    " ou reprovado, e exibir a mensagem correspondente junto com a média, usando o método .format()."
   ],
   "id": "43473d7acf9c0808"
  },
  {
   "metadata": {
    "ExecuteTime": {
     "end_time": "2025-09-12T00:31:49.182232Z",
     "start_time": "2025-09-12T00:31:44.334069Z"
    }
   },
   "cell_type": "code",
   "source": [
    "nota1= float(input(\"Digite a primeira nota: \"))\n",
    "nota2= float(input(\"Digite a segunda nota: \"))\n",
    "nota3= float(input(\"Digite a terceira nota: \"))\n",
    "media = (nota1 + nota2 + nota3)/3\n",
    "if media >= 5:\n",
    "    print(\"Aprovado!\")\n",
    "else:\n",
    "    print(\"Reprovado!\" )\n",
    "\n",
    "print(\"Sua media das 3 notas foi: {}\".format(media))"
   ],
   "id": "96d54fdc79d68970",
   "outputs": [
    {
     "name": "stdout",
     "output_type": "stream",
     "text": [
      "Reprovado!\n",
      "Sua media das 3 notas foi: 1.0\n"
     ]
    }
   ],
   "execution_count": 17
  },
  {
   "metadata": {},
   "cell_type": "markdown",
   "source": [
    "# 6 - Crie um programa que pergunte ao usuário seu nome, idade e cidade onde mora.\n",
    "O programa deve exibir uma mensagem completa apresentando esses dados\n",
    " em uma frase organizada, utilizando o método .format()."
   ],
   "id": "4ea228622c029c3d"
  },
  {
   "metadata": {
    "ExecuteTime": {
     "end_time": "2025-09-11T23:56:08.269125Z",
     "start_time": "2025-09-11T23:55:55.085301Z"
    }
   },
   "cell_type": "code",
   "source": [
    "nome = input(\"Digite o primeiro nome: \")\n",
    "idade = input(\"Digite quantos anos vc tem: \")\n",
    "cidadeOndeMora = input(\"Digite o cidade onde Mora: \")\n",
    "\n",
    "print(\"Seu nome é {} \\nvoce tem {} anos de idade \\nmora na cidade de {}  \".format(nome, idade, cidadeOndeMora))\n"
   ],
   "id": "3410b9c1f01dcc7f",
   "outputs": [
    {
     "name": "stdout",
     "output_type": "stream",
     "text": [
      "Seu nome é: Bruno \n",
      "voce tem 15 anos de idade \n",
      "mora na cidade de : Sao paulo  \n"
     ]
    }
   ],
   "execution_count": 36
  },
  {
   "metadata": {},
   "cell_type": "markdown",
   "source": [
    "# 7 - Crie um programa que solicite ao usuário o nome de um livro, o autor e o ano de publicação.\n",
    " O programa deve exibir uma mensagem organizada apresentando essas informações em uma frase única, utilizando o método .format().\n"
   ],
   "id": "6ad284606aba644"
  },
  {
   "metadata": {
    "ExecuteTime": {
     "end_time": "2025-09-12T00:31:56.202198Z",
     "start_time": "2025-09-12T00:31:53.141436Z"
    }
   },
   "cell_type": "code",
   "source": [
    "livro = input(\"Digite o nome do livro: \")\n",
    "autor = input(\"Digite o nome do autor: \")\n",
    "anoDaPublicacao = input(\"Digite o ano da publicação: \")\n",
    "\n",
    "print(\"O livro {} foi escrito por {} no ano de {}\".format(nome, livro, anoDaPublicacao))\n",
    "\n"
   ],
   "id": "dbdfca00de18fb0d",
   "outputs": [
    {
     "name": "stdout",
     "output_type": "stream",
     "text": [
      "O livro q foi escrito por 1 no ano de 1\n"
     ]
    }
   ],
   "execution_count": 18
  },
  {
   "metadata": {},
   "cell_type": "markdown",
   "source": [
    "# 8 - Crie um programa que peça ao usuário seu nome completo e o ano de nascimento.\n",
    "# O programa deve calcular a idade aproximada (considerando o ano atual)\n",
    "# e exibir uma mensagem formatada com essas informações usando o método .format()."
   ],
   "id": "9345ebef5d925820"
  },
  {
   "metadata": {
    "ExecuteTime": {
     "end_time": "2025-09-12T00:39:28.939146Z",
     "start_time": "2025-09-12T00:39:16.925396Z"
    }
   },
   "cell_type": "code",
   "source": [
    "from datetime import date\n",
    "\n",
    "nome = input(\"Digite o primeiro nome: \")\n",
    "sobrenome = input(\"Digite o seu sobrenome: \")\n",
    "anoNascimento = int(input(\"Digite o ano de nascimento: \"))  # converte para int\n",
    "anoAtual = date.today().year\n",
    "idade = anoAtual - anoNascimento\n",
    "\n",
    "print(\"{} {} nascido em {} tem {} anos de idade\"\n",
    "      .format(nome, sobrenome, anoNascimento, idade))\n"
   ],
   "id": "d1c4a3d07e6d1721",
   "outputs": [
    {
     "name": "stdout",
     "output_type": "stream",
     "text": [
      "Bruno Correa nascido em 1995 tem 30 anos de idade\n"
     ]
    }
   ],
   "execution_count": 34
  },
  {
   "metadata": {},
   "cell_type": "code",
   "outputs": [],
   "execution_count": null,
   "source": "",
   "id": "5f9413918ca58087"
  }
 ],
 "metadata": {
  "kernelspec": {
   "display_name": "Python 3 (ipykernel)",
   "language": "python",
   "name": "python3"
  },
  "language_info": {
   "codemirror_mode": {
    "name": "ipython",
    "version": 3
   },
   "file_extension": ".py",
   "mimetype": "text/x-python",
   "name": "python",
   "nbconvert_exporter": "python",
   "pygments_lexer": "ipython3",
   "version": "3.11.5"
  },
  "colab": {
   "provenance": []
  }
 },
 "nbformat": 4,
 "nbformat_minor": 5
}
