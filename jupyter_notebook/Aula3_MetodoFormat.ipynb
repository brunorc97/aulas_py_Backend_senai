{
 "cells": [
  {
   "metadata": {},
   "cell_type": "markdown",
   "source": [
    "###Revisão 11/09\n",
    "type () - informa qual o tipo do dado\n",
    "exemplo: type (\"ola\") - irá retornar string; type(8) irá retornar INT\n",
    "input() - entrada de dados no programa, o dado precisa ser armazenado em uma variavel\n"
   ],
   "id": "2204bcd2c804641d"
  },
  {
   "metadata": {
    "ExecuteTime": {
     "end_time": "2025-09-11T22:05:49.139302Z",
     "start_time": "2025-09-11T22:05:44.649855Z"
    }
   },
   "cell_type": "code",
   "source": [
    "from ftplib import print_line\n",
    "\n",
    "nome= input(\"digite seu nome: \")\n",
    "idade = input(\"digite sua idade: \")\n",
    "cpf= input(\"Digite sua cpf: \")\n",
    "\n",
    "print(nome, idade, cpf)\n",
    "\n"
   ],
   "id": "14094146f8e371f0",
   "outputs": [
    {
     "name": "stdout",
     "output_type": "stream",
     "text": [
      "q q q\n"
     ]
    }
   ],
   "execution_count": 3
  },
  {
   "metadata": {},
   "cell_type": "markdown",
   "source": [
    "#Usando método format()\n",
    "\n"
   ],
   "id": "77fa01831e2d68d9"
  },
  {
   "metadata": {
    "ExecuteTime": {
     "end_time": "2025-09-11T22:18:04.866928Z",
     "start_time": "2025-09-11T22:18:04.863129Z"
    }
   },
   "cell_type": "code",
   "source": "print(\"nome: {} \\nidade: {} \\ncpf: {}\".format(nome, idade, cpf))",
   "id": "7faa641464d58faf",
   "outputs": [
    {
     "name": "stdout",
     "output_type": "stream",
     "text": [
      "nome: q \n",
      "idade: q \n",
      "cpf: q\n"
     ]
    }
   ],
   "execution_count": 7
  },
  {
   "metadata": {},
   "cell_type": "markdown",
   "source": "# Pra saber qual metodo usar",
   "id": "51c70562776de8b2"
  },
  {
   "metadata": {
    "ExecuteTime": {
     "end_time": "2025-09-11T22:26:29.328621Z",
     "start_time": "2025-09-11T22:26:29.316611Z"
    }
   },
   "cell_type": "code",
   "source": "dir(str) # pra ver os metodos",
   "id": "259c97940c27eb5a",
   "outputs": [
    {
     "data": {
      "text/plain": [
       "['__add__',\n",
       " '__class__',\n",
       " '__contains__',\n",
       " '__delattr__',\n",
       " '__dir__',\n",
       " '__doc__',\n",
       " '__eq__',\n",
       " '__format__',\n",
       " '__ge__',\n",
       " '__getattribute__',\n",
       " '__getitem__',\n",
       " '__getnewargs__',\n",
       " '__getstate__',\n",
       " '__gt__',\n",
       " '__hash__',\n",
       " '__init__',\n",
       " '__init_subclass__',\n",
       " '__iter__',\n",
       " '__le__',\n",
       " '__len__',\n",
       " '__lt__',\n",
       " '__mod__',\n",
       " '__mul__',\n",
       " '__ne__',\n",
       " '__new__',\n",
       " '__reduce__',\n",
       " '__reduce_ex__',\n",
       " '__repr__',\n",
       " '__rmod__',\n",
       " '__rmul__',\n",
       " '__setattr__',\n",
       " '__sizeof__',\n",
       " '__str__',\n",
       " '__subclasshook__',\n",
       " 'capitalize',\n",
       " 'casefold',\n",
       " 'center',\n",
       " 'count',\n",
       " 'encode',\n",
       " 'endswith',\n",
       " 'expandtabs',\n",
       " 'find',\n",
       " 'format',\n",
       " 'format_map',\n",
       " 'index',\n",
       " 'isalnum',\n",
       " 'isalpha',\n",
       " 'isascii',\n",
       " 'isdecimal',\n",
       " 'isdigit',\n",
       " 'isidentifier',\n",
       " 'islower',\n",
       " 'isnumeric',\n",
       " 'isprintable',\n",
       " 'isspace',\n",
       " 'istitle',\n",
       " 'isupper',\n",
       " 'join',\n",
       " 'ljust',\n",
       " 'lower',\n",
       " 'lstrip',\n",
       " 'maketrans',\n",
       " 'partition',\n",
       " 'removeprefix',\n",
       " 'removesuffix',\n",
       " 'replace',\n",
       " 'rfind',\n",
       " 'rindex',\n",
       " 'rjust',\n",
       " 'rpartition',\n",
       " 'rsplit',\n",
       " 'rstrip',\n",
       " 'split',\n",
       " 'splitlines',\n",
       " 'startswith',\n",
       " 'strip',\n",
       " 'swapcase',\n",
       " 'title',\n",
       " 'translate',\n",
       " 'upper',\n",
       " 'zfill']"
      ]
     },
     "execution_count": 8,
     "metadata": {},
     "output_type": "execute_result"
    }
   ],
   "execution_count": 8
  },
  {
   "metadata": {},
   "cell_type": "code",
   "outputs": [],
   "execution_count": null,
   "source": "",
   "id": "c94d0ca7606038f9"
  }
 ],
 "metadata": {
  "kernelspec": {
   "display_name": "Python 3",
   "language": "python",
   "name": "python3"
  },
  "language_info": {
   "codemirror_mode": {
    "name": "ipython",
    "version": 2
   },
   "file_extension": ".py",
   "mimetype": "text/x-python",
   "name": "python",
   "nbconvert_exporter": "python",
   "pygments_lexer": "ipython2",
   "version": "2.7.6"
  }
 },
 "nbformat": 4,
 "nbformat_minor": 5
}
