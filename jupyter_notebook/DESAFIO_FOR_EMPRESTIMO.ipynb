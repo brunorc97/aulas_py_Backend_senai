{
 "cells": [
  {
   "cell_type": "code",
   "execution_count": null,
   "id": "b4c1ac10-9dba-4312-95ab-be3b1426cad6",
   "metadata": {},
   "outputs": [],
   "source": [
    "# DESAFIO DE DICIONÁRIOS:\n",
    "# Crie um programa que implemente inicialmente uma lista vazia\n",
    "# chamada emprestimos. (serve pra registrar emprestimos de livros)\n",
    "# O programa então irá, em loop, perguntar sempre o usuario e o livro \n",
    "# que foi emprestado, criar um dicionario com estas duas informações e \n",
    "# fazer um append na lista.\n",
    "# para encerrar o programa, o usuario devera digitar SAIR no lugar do usuario\n",
    "# o programa entao fará outro loop para mostrar os dados de todos os emprestimos\n",
    "# dica1: vc precisara de 2 loops: um de cadastro e outro pra gerar o relatorio\n",
    "# dica2: lembre-se dos métodos .items(), .keys() e .values() e encontre o que melhor\n",
    "# servirá para sua lógica\n",
    "\n",
    "# EXEMPLO: como ficara a lista depois dos cadastros:\n",
    "# emprestimos = [\n",
    "#     {'usuario': 'anderson' , 'livro': 'o sol'},\n",
    "#     {'usuario': 'nicolas' , 'livro': 'o mar'},\n",
    "#     {'usuario': 'marcelo' , 'livro': 'a lua'},\n",
    "# ]\n",
    "\n",
    "# **** RELATORIO ***\n",
    "# usuario: anderson\n",
    "# livro: o sol\n",
    "\n",
    "# usuario: nicolas\n",
    "# livro: o mar\n",
    "\n",
    "# usuario: marcelo\n",
    "# livro: a lua"
   ]
  },
  {
   "cell_type": "code",
   "execution_count": 10,
   "id": "935f5782-8d29-43e8-908e-5f91b4f64c3d",
   "metadata": {},
   "outputs": [
    {
     "name": "stdout",
     "output_type": "stream",
     "text": [
      "\n",
      "**** NOVO EMPRÉSTIMO ****\n"
     ]
    },
    {
     "name": "stdin",
     "output_type": "stream",
     "text": [
      "Digite o nome do tomador do livro:  anderson\n",
      "Digite o nome do livro:  o sol\n"
     ]
    },
    {
     "name": "stdout",
     "output_type": "stream",
     "text": [
      "Emprestimo cadastrado com sucesso. \n",
      "\n",
      "\n",
      "**** NOVO EMPRÉSTIMO ****\n"
     ]
    },
    {
     "name": "stdin",
     "output_type": "stream",
     "text": [
      "Digite o nome do tomador do livro:  jorge\n",
      "Digite o nome do livro:  o mar\n"
     ]
    },
    {
     "name": "stdout",
     "output_type": "stream",
     "text": [
      "Emprestimo cadastrado com sucesso. \n",
      "\n",
      "\n",
      "**** NOVO EMPRÉSTIMO ****\n"
     ]
    },
    {
     "name": "stdin",
     "output_type": "stream",
     "text": [
      "Digite o nome do tomador do livro:  sair\n"
     ]
    },
    {
     "name": "stdout",
     "output_type": "stream",
     "text": [
      "Finalizando etapa de registro dos empréstimos..\n",
      "\n",
      "*** RELATÓRIO DOS EMPRÉSTIMOS ****\n",
      " Usuario : Anderson \n",
      " Livro : O Sol \n",
      "\n",
      "\n",
      " Usuario : Jorge \n",
      " Livro : O Mar \n",
      "\n",
      "\n"
     ]
    }
   ],
   "source": [
    "emprestimos = []\n",
    "\n",
    "# rotina de cadastro\n",
    "# roda em loop até o usuario digitar SAIR\n",
    "while True:\n",
    "    print(\"\\n**** NOVO EMPRÉSTIMO ****\")\n",
    "    \n",
    "    usuario = input(\"Digite o nome do tomador do livro: \")    \n",
    "    if usuario == \"sair\":\n",
    "        print(\"Finalizando etapa de registro dos empréstimos..\\n\")\n",
    "        break\n",
    "        \n",
    "    livro = input(\"Digite o nome do livro: \")\n",
    "    \n",
    "    novo_emprestimo = {\"usuario\" : usuario , \"livro\" : livro }\n",
    "    emprestimos.append(novo_emprestimo)\n",
    "    print(\"Emprestimo cadastrado com sucesso. \\n\")\n",
    "\n",
    "# imprimir relatorio usando for \n",
    "print(\"*** RELATÓRIO DOS EMPRÉSTIMOS ****\")\n",
    "\n",
    "for emprestimo in emprestimos:\n",
    "    for chave,valor in emprestimo.items():\n",
    "        print(f\" { chave.title() } : { valor.title() } \")\n",
    "        if chave == \"livro\":\n",
    "            print(\"\\n\")\n"
   ]
  },
  {
   "cell_type": "code",
   "execution_count": 2,
   "id": "a5d0282d-a86a-419e-9bab-e991df47d960",
   "metadata": {},
   "outputs": [
    {
     "name": "stdout",
     "output_type": "stream",
     "text": [
      "dict_keys(['usuario', 'livro'])\n",
      "dict_values(['anderson', 'o sol'])\n",
      "dict_items([('usuario', 'anderson'), ('livro', 'o sol')])\n"
     ]
    }
   ],
   "source": [
    "exemplo = {'usuario': 'anderson' , 'livro': 'o sol'}\n",
    "\n",
    "print(exemplo.keys()) # retorna as chaves\n",
    "print(exemplo.values()) # retorna os valores\n",
    "print(exemplo.items()) # retona tuplas contendo ambos: chave e valor - equivalente ao enumerate() das listas\n",
    "\n"
   ]
  },
  {
   "cell_type": "code",
   "execution_count": null,
   "id": "a0746671-9f71-47bb-aaac-78d37116d205",
   "metadata": {},
   "outputs": [],
   "source": []
  }
 ],
 "metadata": {
  "kernelspec": {
   "display_name": "Python 3 (ipykernel)",
   "language": "python",
   "name": "python3"
  },
  "language_info": {
   "codemirror_mode": {
    "name": "ipython",
    "version": 3
   },
   "file_extension": ".py",
   "mimetype": "text/x-python",
   "name": "python",
   "nbconvert_exporter": "python",
   "pygments_lexer": "ipython3",
   "version": "3.13.5"
  }
 },
 "nbformat": 4,
 "nbformat_minor": 5
}
