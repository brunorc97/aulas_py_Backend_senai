{
 "cells": [
  {
   "cell_type": "markdown",
   "id": "fb072c4e-a397-48f2-aba0-f6647075841c",
   "metadata": {},
   "source": [
    "Teste "
   ]
  },
  {
   "cell_type": "code",
   "execution_count": 2,
   "id": "ef107b7a-ee80-45fb-bb23-5a2e7fa0d642",
   "metadata": {},
   "outputs": [
    {
     "name": "stdout",
     "output_type": "stream",
     "text": [
      "ola mundo\n"
     ]
    }
   ],
   "source": [
    "print(\"ola mundo\")"
   ]
  },
  {
   "cell_type": "code",
   "execution_count": 3,
   "id": "3927e68a-8dcd-41e4-8d06-5682eced7f00",
   "metadata": {},
   "outputs": [
    {
     "name": "stdout",
     "output_type": "stream",
     "text": [
      "ola eu sou uma string\n"
     ]
    }
   ],
   "source": [
    "print(\"ola eu sou uma string\")"
   ]
  },
  {
   "cell_type": "markdown",
   "id": "c23d5811-4484-46ba-a33f-ba0ace0a1c34",
   "metadata": {},
   "source": [
    "# juntando Strings (concatenando)\n",
    "Voce pode juntar string usando o operador de concatenação \"+\"\n",
    "\n"
   ]
  },
  {
   "cell_type": "code",
   "execution_count": null,
   "id": "5378ab72-3e06-4401-b045-cf36a09b1970",
   "metadata": {},
   "outputs": [],
   "source": []
  },
  {
   "cell_type": "code",
   "execution_count": null,
   "id": "cd372c27-b978-45ff-87cc-cbf1afd1503e",
   "metadata": {},
   "outputs": [],
   "source": []
  }
 ],
 "metadata": {
  "kernelspec": {
   "display_name": "Python [conda env:base] *",
   "language": "python",
   "name": "conda-base-py"
  },
  "language_info": {
   "codemirror_mode": {
    "name": "ipython",
    "version": 3
   },
   "file_extension": ".py",
   "mimetype": "text/x-python",
   "name": "python",
   "nbconvert_exporter": "python",
   "pygments_lexer": "ipython3",
   "version": "3.13.5"
  }
 },
 "nbformat": 4,
 "nbformat_minor": 5
}
