{
 "cells": [
  {
   "cell_type": "markdown",
   "metadata": {
    "id": "_Fe90JOXiJbX"
   },
   "source": [
    "# Exercícios com if"
   ]
  },
  {
   "cell_type": "markdown",
   "metadata": {
    "id": "A1QT4EpgiJbd"
   },
   "source": [
    "## 1. Cálculo de Bônus\n",
    "\n",
    "- Crie um programa que calcule e dê um print no bônus que os funcionários devem receber segundo a regra:\n",
    "\n",
    "A meta é 1000 vendas.<br>\n",
    "Se o valor de vendas for maior ou igual a meta, o valor do bônus do funcionário é 10% do valor de vendas.<br>\n",
    "Caso contrário o valor de bônus do funcionário é 0.<br>\n",
    "Print o bônus dos 3 funcionários"
   ]
  },
  {
   "cell_type": "code",
   "metadata": {
    "id": "Yg_UOtQpiJbe",
    "ExecuteTime": {
     "end_time": "2025-09-18T22:37:16.737874Z",
     "start_time": "2025-09-18T22:37:16.733700Z"
    }
   },
   "source": [
    "vendas_funcionario1 = 1000\n",
    "vendas_funcionario2 = 770\n",
    "vendas_funcionario3 = 2700\n",
    "\n",
    "meta = 1000\n",
    "\n",
    "# Funcionário 1\n",
    "if vendas_funcionario1 > meta:\n",
    "    bonus1 = vendas_funcionario1 * 0.10\n",
    "elif vendas_funcionario1 == meta:\n",
    "    bonus1 = vendas_funcionario1 * 0.10\n",
    "else:\n",
    "    bonus1 = 0\n",
    "\n",
    "# Funcionário 2\n",
    "if vendas_funcionario2 >= meta:\n",
    "    bonus2 = vendas_funcionario2 * 0.10\n",
    "else:\n",
    "    bonus2 = 0\n",
    "\n",
    "# Funcionário 3\n",
    "if vendas_funcionario3 >= meta:\n",
    "    bonus3 = vendas_funcionario3 * 0.10\n",
    "else:\n",
    "    bonus3 = 0\n",
    "\n",
    "if bonus1 > 0:\n",
    "    print(f\"Funcionário 1: Parabéns! Seu bônus foi R$ {bonus1:.2f}\")\n",
    "else:\n",
    "    print(\"Funcionário 1: Infelizmente você não atingiu o bônus\")\n",
    "\n",
    "if bonus2 > 0:\n",
    "    print(f\"Funcionário 2: Parabéns! Seu bônus foi R$ {bonus2:.2f}\")\n",
    "else:\n",
    "    print(\"Funcionário 2: Infelizmente você não atingiu o bônus\")\n",
    "\n",
    "if bonus3 > 0:\n",
    "    print(f\"Funcionário 3: Parabéns! Seu bônus foi R$ {bonus3:.2f}\")\n",
    "else:\n",
    "    print(\"Funcionário 3: Infelizmente você não atingiu o bônus\")"
   ],
   "outputs": [
    {
     "name": "stdout",
     "output_type": "stream",
     "text": [
      "Funcionário 1: Parabéns! Seu bônus foi R$ 100.00\n",
      "Funcionário 2: Infelizmente você não atingiu o bônus\n",
      "Funcionário 3: Parabéns! Seu bônus foi R$ 270.00\n"
     ]
    }
   ],
   "execution_count": 3
  },
  {
   "cell_type": "markdown",
   "metadata": {
    "id": "tYHfIUDIiJbi"
   },
   "source": [
    "## 2. Cálculo de bônus com uma nova regra\n",
    "\n",
    "- Agora, crie um novo código que calcule e dê um print no bônus dos funcionários novamente. Porém há uma nova regra nesse 2º caso:\n",
    "\n",
    "A meta é 1000 vendas<br>\n",
    "Agora, os funcionários que venderem muito acima da meta ganham mais bônus do que os outros. Então o bônus é definido da seguinte forma:<br>\n",
    "\n",
    "- Se vendas funcionário for maior ou igual a 2000, então o bônus é de 15% sobre o valor de vendas\n",
    "- Se vendas funcionário for menor do que 2000 e maior ou igual a 1000, então o bônus é de 10% sobre o valor de vendas\n",
    "- Se vendas funcionário for menos do que 1000 então o bônus do funcionário é de 0.\n",
    "\n",
    "Use as mesmas variáveis de vendas_funcionários"
   ]
  },
  {
   "cell_type": "code",
   "metadata": {
    "id": "HN8wMfKViJbi",
    "ExecuteTime": {
     "end_time": "2025-09-18T22:38:16.203445Z",
     "start_time": "2025-09-18T22:38:16.200501Z"
    }
   },
   "source": [
    "\n",
    "if vendas_funcionario1 >= 2000:\n",
    "    bonus1 = vendas_funcionario1 * 0.15\n",
    "elif vendas_funcionario1 >= 1000:\n",
    "    bonus1 = vendas_funcionario1 * 0.10\n",
    "else:\n",
    "    bonus1 = 0\n",
    "\n",
    "if vendas_funcionario2 >= 2000:\n",
    "    bonus2 = vendas_funcionario2 * 0.15\n",
    "elif vendas_funcionario2 >= 1000:\n",
    "    bonus2 = vendas_funcionario2 * 0.10\n",
    "else:\n",
    "    bonus2 = 0\n",
    "\n",
    "\n",
    "if vendas_funcionario3 >= 2000:\n",
    "    bonus3 = vendas_funcionario3 * 0.15\n",
    "elif vendas_funcionario3 >= 1000:\n",
    "    bonus3 = vendas_funcionario3 * 0.10\n",
    "else:\n",
    "    bonus3 = 0\n",
    "\n",
    "\n",
    "if bonus1 > 0:\n",
    "    print(f\"Funcionário 1: Parabens seu bonus foi R$ {bonus1:.2f}\")\n",
    "else:\n",
    "    print(\"Funcionário 1: Infelizmente nao atingiu o bonus\")\n",
    "\n",
    "if bonus2 > 0:\n",
    "    print(f\"Funcionário 2: Parabens seu bonus foi R$ {bonus2:.2f}\")\n",
    "else:\n",
    "    print(\"Funcionário 2: Infelizmente nao atingiu o bonus\")\n",
    "\n",
    "if bonus3 > 0:\n",
    "    print(f\"Funcionário 3: Parabens seu bonus foi R$ {bonus3:.2f}\")\n",
    "else:\n",
    "    print(\"Funcionário 3: Infelizmente nao atingiu o bonus\")\n",
    "#obs: há 2 formas de fazer, com if dentro de if ou então com if e elif. Escolha a que você preferir"
   ],
   "outputs": [
    {
     "name": "stdout",
     "output_type": "stream",
     "text": [
      "Funcionário 1: Parabens seu bonus foi R$ 100.00\n",
      "Funcionário 2: Infelizmente nao atingiu o bonus\n",
      "Funcionário 3: Parabens seu bonus foi R$ 405.00\n"
     ]
    }
   ],
   "execution_count": 4
  },
  {
   "cell_type": "markdown",
   "source": [
    "### 3-  DESAFIO : media e faltas\n",
    "Faça um programa que peça para o professor:\n",
    "- nome do aluno\n",
    "- nota 1\n",
    "- nota 2\n",
    "- nota 3\n",
    "- porcentagem de faltas\n",
    " se a media for >=7 E porcentagem de faltas for <25%, aluno aprovado\n",
    " se a media for <7 e >=5 E porcentagem de faltas for <25%, recuperação\n",
    "se a media for <5 OU faltas >=25% , aluno reprovado\n",
    " otimize a sua logica e faça um codigo elegante e limpo\n",
    "\n",
    "DICA: PRIMEIRO CRIE A LOGICA, SE NECESSARIO FAÇA UM ALGORITMO/FLUXOGRAMA, DETERMINE OS PASSOS E SÓ ENTÃO PARTA PARA O CODIGO"
   ],
   "metadata": {
    "id": "ntDU0EOOfC1P"
   }
  },
  {
   "cell_type": "code",
   "source": [
    "nome = input(\"Digite o nome do aluno: \")\n",
    "nota1 = float(input(\"Digite a nota 1: \"))\n",
    "nota2 = float(input(\"Digite a nota 2: \"))\n",
    "nota3 = float(input(\"Digite a nota 3: \"))\n",
    "faltas = float(input(\"Digite a porcentagem de faltas (%): \"))\n",
    "\n",
    "media = (nota1 + nota2 + nota3) / 3\n",
    "\n",
    "if media >= 7 and faltas < 25:\n",
    "    print(f\"{nome} foi APROVADO com média {media:.2f} e {faltas}% de faltas.\")\n",
    "elif media >= 5 and faltas < 25:\n",
    "    print(f\"{nome} está de RECUPERAÇÃO com média {media:.2f} e {faltas}% de faltas.\")\n",
    "else:\n",
    "    print(f\"{nome} foi REPROVADO com média {media:.2f} e {faltas}% de faltas.\")"
   ],
   "metadata": {
    "id": "9SZpLGRAfJ55",
    "ExecuteTime": {
     "end_time": "2025-09-18T22:39:31.408554Z",
     "start_time": "2025-09-18T22:39:15.956339Z"
    }
   },
   "outputs": [
    {
     "name": "stdout",
     "output_type": "stream",
     "text": [
      "Jefson está de RECUPERAÇÃO com média 5.00 e 20.0% de faltas.\n"
     ]
    }
   ],
   "execution_count": 5
  }
 ],
 "metadata": {
  "colab": {
   "provenance": []
  },
  "kernelspec": {
   "display_name": "Python 3 (ipykernel)",
   "language": "python",
   "name": "python3"
  },
  "language_info": {
   "codemirror_mode": {
    "name": "ipython",
    "version": 3
   },
   "file_extension": ".py",
   "mimetype": "text/x-python",
   "name": "python",
   "nbconvert_exporter": "python",
   "pygments_lexer": "ipython3",
   "version": "3.12.4"
  }
 },
 "nbformat": 4,
 "nbformat_minor": 0
}
