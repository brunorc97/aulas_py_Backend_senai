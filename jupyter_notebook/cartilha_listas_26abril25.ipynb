{
 "cells": [
  {
   "cell_type": "markdown",
   "id": "18c1ca1e-454b-4f5d-81f6-a01eb6a028eb",
   "metadata": {},
   "source": [
    "## Listas"
   ]
  },
  {
   "cell_type": "code",
   "execution_count": 1,
   "id": "7aed08d0-e638-443f-a557-c69961f4c927",
   "metadata": {},
   "outputs": [
    {
     "name": "stdout",
     "output_type": "stream",
     "text": [
      "['banana', 'maçã', 'pera', 'uva']\n"
     ]
    }
   ],
   "source": [
    "# uma lista é uma estrutura de dados com várias posições.\n",
    "# seus elementos podem ser acessados pelo índice de sua posição, similar as strings\n",
    "\n",
    "produtos = [ \"banana\" , \"maçã\" , \"pera\" , \"uva\" ]\n",
    "\n",
    "print(produtos)"
   ]
  },
  {
   "cell_type": "code",
   "execution_count": 2,
   "id": "cac34e57-218c-4258-8025-d6f7fae3716d",
   "metadata": {},
   "outputs": [
    {
     "name": "stdout",
     "output_type": "stream",
     "text": [
      "banana\n",
      "pera\n"
     ]
    }
   ],
   "source": [
    "print( produtos[0]) # imprime a banana\n",
    "print( produtos[2]) # imprime a pera"
   ]
  },
  {
   "cell_type": "code",
   "execution_count": 3,
   "id": "315b376d-8431-4044-bb55-8267bc0ec16e",
   "metadata": {},
   "outputs": [
    {
     "name": "stdout",
     "output_type": "stream",
     "text": [
      "4\n"
     ]
    }
   ],
   "source": [
    "# len - informa o tamanho da lista\n",
    "print ( len(produtos) )"
   ]
  },
  {
   "cell_type": "code",
   "execution_count": 7,
   "id": "94157c00-64f0-4bc8-9d67-1c35b4a260bd",
   "metadata": {},
   "outputs": [
    {
     "name": "stdout",
     "output_type": "stream",
     "text": [
      "30000000\n",
      "\n",
      "\n",
      "1\n"
     ]
    }
   ],
   "source": [
    "numeros = [8 , 5 , 1 , 200 , 30000000 , 4]\n",
    "\n",
    "# max - traz o valor maximo de uma lista de numeros\n",
    "print ( max(numeros) )\n",
    "print(\"\\n\")\n",
    "\n",
    "# min - traz o menor numero de uma lista\n",
    "print( min(numeros))"
   ]
  },
  {
   "cell_type": "code",
   "execution_count": 19,
   "id": "3ff95033-6b4d-441e-8654-bfea125ebaa9",
   "metadata": {},
   "outputs": [],
   "source": [
    "lista_mista = [ 3, 8, \"banana\" , \"maca\" , True , False , 6.87 ]"
   ]
  },
  {
   "cell_type": "code",
   "execution_count": 13,
   "id": "d534217f-00ad-4772-83cb-ad25b249df7a",
   "metadata": {},
   "outputs": [
    {
     "name": "stdout",
     "output_type": "stream",
     "text": [
      "[3, 8, 'banana', 'maca', True, False, 6.87]\n"
     ]
    }
   ],
   "source": [
    "print(lista_mista)"
   ]
  },
  {
   "cell_type": "code",
   "execution_count": 14,
   "id": "db3b55e2-8ae9-4637-ad94-092f259659a5",
   "metadata": {},
   "outputs": [
    {
     "name": "stdout",
     "output_type": "stream",
     "text": [
      "False\n"
     ]
    }
   ],
   "source": [
    "print( lista_mista[5] )"
   ]
  },
  {
   "cell_type": "code",
   "execution_count": 13,
   "id": "3b42d479-9b1e-40f7-a1f2-d5d89a1fc312",
   "metadata": {},
   "outputs": [
    {
     "name": "stdout",
     "output_type": "stream",
     "text": [
      "O Produto banana custa R$ 20,00 \n",
      "O Produto maçã custa R$ 30,00 \n",
      "O Produto pera custa R$ 25,00 \n",
      "O Produto uva custa R$ 22,00 \n"
     ]
    }
   ],
   "source": [
    "produtos = [ \"banana\" , \"maçã\" , \"pera\" , \"uva\" ]\n",
    "precos = [ 20 ,30 , 25 , 22 ]\n",
    "\n",
    "print(f\"O Produto {produtos[0] } custa R$ {precos[0]:.2f} \".replace(\".\" , \",\") )\n",
    "print(f\"O Produto {produtos[1] } custa R$ {precos[1]:.2f} \".replace(\".\" , \",\") )\n",
    "print(f\"O Produto {produtos[2] } custa R$ {precos[2]:.2f} \".replace(\".\" , \",\") )\n",
    "print(f\"O Produto {produtos[3] } custa R$ {precos[3]:.2f} \".replace(\".\" , \",\") )\n",
    "\n",
    "# DESAFIO FLASH: IMPRIMA CADA LINHA COMO NO EXEMPLO:\n",
    "# \"O Produto banana custa R$20,00 \"\n"
   ]
  },
  {
   "cell_type": "markdown",
   "id": "be38ca1e-a2b6-4938-8a49-bd7f3144ec7e",
   "metadata": {},
   "source": [
    "#### Métodos de Listas"
   ]
  },
  {
   "cell_type": "code",
   "execution_count": 14,
   "id": "c6824680-702d-48ff-bb41-8a6bfacfd48f",
   "metadata": {},
   "outputs": [
    {
     "name": "stdout",
     "output_type": "stream",
     "text": [
      "2\n"
     ]
    }
   ],
   "source": [
    "print( produtos.index(\"pera\") )"
   ]
  },
  {
   "cell_type": "code",
   "execution_count": 16,
   "id": "7930bf40-0dfb-4e92-ade5-ba846e220f01",
   "metadata": {},
   "outputs": [
    {
     "name": "stdout",
     "output_type": "stream",
     "text": [
      "3\n"
     ]
    }
   ],
   "source": [
    "print( produtos.index(\"uva\") )"
   ]
  },
  {
   "cell_type": "code",
   "execution_count": 20,
   "id": "8d49121f-3901-407a-b51a-09f5df489e5d",
   "metadata": {},
   "outputs": [
    {
     "name": "stdout",
     "output_type": "stream",
     "text": [
      "1\n",
      "4\n"
     ]
    }
   ],
   "source": [
    "print( precos.index(30) )\n",
    "print( lista_mista.index( True ) )"
   ]
  },
  {
   "cell_type": "code",
   "execution_count": 40,
   "id": "2ce3d9ef-13cc-47a4-bf88-d4dc585aefec",
   "metadata": {},
   "outputs": [
    {
     "name": "stdin",
     "output_type": "stream",
     "text": [
      "Digite o produto para consultar o preço:  MELÃO\n"
     ]
    },
    {
     "name": "stdout",
     "output_type": "stream",
     "text": [
      "Produto não encontrado\n"
     ]
    }
   ],
   "source": [
    "# DESAFIO - CONSIDERE AS LISTAS ABAIXO DE PRODUTOS E SEUS PREÇOS\n",
    "# O PROGRAMA DEVERA PEDIR AO USUARIO PRA DIGITAR O PRODUTO E ENTAO INFORMAR O PREÇO\n",
    "# SE O PRODUTO DIGITADO NAO EXISTIR, DEVERA DIZER \"Produto não encontrado\"\n",
    "# DESAFIO EXTRA: TENTE FAZER ESSE TRATAMENTO COM TRY...EXCEPT\n",
    "\n",
    "produtos = [ \"banana\" , \"maçã\" , \"pera\" , \"uva\" ]\n",
    "precos = [ 20 ,30 , 25 , 22 ]\n",
    "\n",
    "entradausuario = input(\"Digite o produto para consultar o preço: \").casefold()\n",
    "\n",
    "try: # tente\n",
    "    indice = produtos.index(entradausuario)\n",
    "    print(\"O Preço do produto é: R$ {:.2f} \"\n",
    "          .format(precos[indice])\n",
    "          .replace(\".\",\",\" ))\n",
    "except ValueError:\n",
    "    print(\"Produto não encontrado\")\n",
    "\n",
    "    \n"
   ]
  },
  {
   "cell_type": "code",
   "execution_count": 48,
   "id": "2a561917-bd24-4116-97db-5a7bd12ff535",
   "metadata": {},
   "outputs": [
    {
     "name": "stdout",
     "output_type": "stream",
     "text": [
      "['gol', 'palio', 'tucson', 'uno']\n",
      "['gol', 'palio', 'tucson', 'uno', 'ix35']\n"
     ]
    }
   ],
   "source": [
    "# append - inserir um ITEM na lista\n",
    "# voce passa como parametro o VALOR que vai adicionar\n",
    "carros = [ 'gol' , 'palio' , 'tucson' , 'uno' ]\n",
    "print(carros)\n",
    "\n",
    "carros.append('ix35')\n",
    "print(carros)"
   ]
  },
  {
   "cell_type": "code",
   "execution_count": 49,
   "id": "abd5a7bd-e4f8-49e7-af02-a154dbdbaffe",
   "metadata": {},
   "outputs": [
    {
     "name": "stdout",
     "output_type": "stream",
     "text": [
      "['gol', 'tucson', 'uno', 'ix35']\n"
     ]
    }
   ],
   "source": [
    "# remove - remove a primeira ocorrência do item da lista\n",
    "# voce passa como parametro o VALOR que vai remover\n",
    "carros.remove('palio')\n",
    "print(carros)"
   ]
  },
  {
   "cell_type": "code",
   "execution_count": 50,
   "id": "846bc1f9-e254-461a-9222-7a2fef652e5c",
   "metadata": {},
   "outputs": [
    {
     "name": "stdout",
     "output_type": "stream",
     "text": [
      "['gol', 'tucson', 'uno', 'ix35', 'hb20', 'fusca', 'gol']\n"
     ]
    }
   ],
   "source": [
    "# extend - pega os itens de uma lista e insere \"um a um\" na outra lista\n",
    "novos_carros = ['hb20' , 'fusca' , 'gol']\n",
    "\n",
    "carros.extend(novos_carros)\n",
    "print(carros)"
   ]
  },
  {
   "cell_type": "code",
   "execution_count": 51,
   "id": "4b0dccf0-5c80-4d15-81d8-b6533ad5e5a9",
   "metadata": {},
   "outputs": [
    {
     "name": "stdout",
     "output_type": "stream",
     "text": [
      "['tucson', 'uno', 'ix35', 'hb20', 'fusca', 'gol']\n"
     ]
    }
   ],
   "source": [
    "carros.remove('gol')\n",
    "print(carros)"
   ]
  },
  {
   "cell_type": "code",
   "execution_count": 57,
   "id": "a3529d6d-9d9e-4cf8-9950-b6c4b9c16116",
   "metadata": {},
   "outputs": [
    {
     "name": "stdout",
     "output_type": "stream",
     "text": [
      "anderson\n",
      "['a', 'b', 'c']\n",
      "b\n"
     ]
    }
   ],
   "source": [
    "# lista onde um elemento é uma lista\n",
    "lista_doida = [1 ,2 , \"anderson\" , ['a','b','c'] ]\n",
    "# como eu faço pra imprimir a letra b?\n",
    "print(lista_doida[2])\n",
    "print(lista_doida[3])\n",
    "print(lista_doida[3][1])"
   ]
  },
  {
   "cell_type": "code",
   "execution_count": null,
   "id": "f1a0f7c7-ad66-4163-8bdc-63d65efe2dd1",
   "metadata": {},
   "outputs": [],
   "source": [
    "# desafio extra-megazord pra casa:\n",
    "# faça um jogo da velha usando lista de listas"
   ]
  },
  {
   "cell_type": "code",
   "execution_count": 58,
   "id": "68ce21e2-eb85-4496-8eab-5b2772056a62",
   "metadata": {},
   "outputs": [
    {
     "name": "stdout",
     "output_type": "stream",
     "text": [
      "['banana', 'pera', 'fusca', 'brasilia']\n"
     ]
    }
   ],
   "source": [
    "# operador + : concatena listas\n",
    "lista1 = ['banana','pera']\n",
    "lista2 = ['fusca','brasilia']\n",
    "\n",
    "listafinal = lista1 + lista2\n",
    "print(listafinal)"
   ]
  },
  {
   "cell_type": "code",
   "execution_count": 59,
   "id": "a55a1f3d-96c4-4ab7-bb93-f245850a1694",
   "metadata": {},
   "outputs": [
    {
     "name": "stdout",
     "output_type": "stream",
     "text": [
      "['banana', 'pera', 'fusca', 'brasilia']\n"
     ]
    }
   ],
   "source": [
    "# fazendo a mesma operação com extend\n",
    "lista4 = ['banana','pera']\n",
    "lista5 = ['fusca','brasilia']\n",
    "\n",
    "lista4.extend(lista5)\n",
    "print(lista4)"
   ]
  },
  {
   "cell_type": "code",
   "execution_count": 60,
   "id": "3716a6c6-b14a-4e0b-a75d-684402a8cd63",
   "metadata": {},
   "outputs": [
    {
     "name": "stdout",
     "output_type": "stream",
     "text": [
      "['banana', 'pera', ['fusca', 'brasilia']]\n"
     ]
    }
   ],
   "source": [
    "# vamos agora tentar com append e ver o que acontece\n",
    "lista7 = ['banana','pera']\n",
    "lista8 = ['fusca','brasilia']\n",
    "\n",
    "lista7.append(lista8)\n",
    "print(lista7)"
   ]
  },
  {
   "cell_type": "code",
   "execution_count": 61,
   "id": "fc6cdb9d-c620-45df-a3e0-9656761478ec",
   "metadata": {},
   "outputs": [
    {
     "name": "stdout",
     "output_type": "stream",
     "text": [
      "['banana', 'pera', 'fusca', 'brasilia']\n"
     ]
    }
   ],
   "source": [
    "# como seria pra fazer com append os itens separados\n",
    "lista9 = ['banana','pera']\n",
    "lista99 = ['fusca','brasilia']\n",
    "\n",
    "lista9.append(lista99[0])\n",
    "lista9.append(lista99[1])\n",
    "\n",
    "print(lista9)"
   ]
  },
  {
   "cell_type": "code",
   "execution_count": 62,
   "id": "c5479e47-e912-40c3-9b8e-b69cef26ed91",
   "metadata": {},
   "outputs": [
    {
     "name": "stdout",
     "output_type": "stream",
     "text": [
      "['banana', 'fusca', 'brasilia']\n"
     ]
    }
   ],
   "source": [
    "# pop - remove um item da lista - usa o índice\n",
    "lista9.pop(1)\n",
    "print(lista9)"
   ]
  },
  {
   "cell_type": "code",
   "execution_count": 65,
   "id": "4ae68e58-a428-4244-ae01-2eba02a9ca24",
   "metadata": {},
   "outputs": [
    {
     "name": "stdout",
     "output_type": "stream",
     "text": [
      "['pera', 'banana', 'uva', 'maçã']\n",
      "['banana', 'maçã', 'pera', 'uva']\n"
     ]
    }
   ],
   "source": [
    "#sort - ordena os itens da lista\n",
    "produtos = ['pera', 'banana','uva', 'maçã', ]\n",
    "print(produtos)\n",
    "\n",
    "produtos.sort()\n",
    "\n",
    "print(produtos)"
   ]
  },
  {
   "cell_type": "code",
   "execution_count": 66,
   "id": "81661e5c-6513-4c7b-a22c-fdce9295164b",
   "metadata": {},
   "outputs": [
    {
     "name": "stdout",
     "output_type": "stream",
     "text": [
      "[6, 9, 12, 23, 45, 90]\n"
     ]
    }
   ],
   "source": [
    "nums = [9,6,90,45,23,12]\n",
    "nums.sort()\n",
    "print(nums)"
   ]
  },
  {
   "cell_type": "code",
   "execution_count": 67,
   "id": "dadb6092-f53d-494e-b35b-d024e18760d9",
   "metadata": {},
   "outputs": [
    {
     "name": "stdout",
     "output_type": "stream",
     "text": [
      "[90, 45, 23, 12, 9, 6]\n"
     ]
    }
   ],
   "source": [
    "nums.sort(reverse = True)\n",
    "print(nums)"
   ]
  },
  {
   "cell_type": "code",
   "execution_count": 70,
   "id": "8e5cc8de-bc2b-412e-b7f0-ffe68bfe2a61",
   "metadata": {},
   "outputs": [
    {
     "name": "stdout",
     "output_type": "stream",
     "text": [
      "['maça', 'uva', 'pera', 'abacate']\n"
     ]
    }
   ],
   "source": [
    "#revendo o split (método de string)\n",
    "string = \"maça, uva, pera, abacate\"\n",
    "lista_frutas = string.split(\", \")\n",
    "print(lista_frutas)"
   ]
  },
  {
   "cell_type": "code",
   "execution_count": null,
   "id": "daf5c109-08c8-4908-b054-96b6bf3d2768",
   "metadata": {},
   "outputs": [],
   "source": []
  }
 ],
 "metadata": {
  "kernelspec": {
   "display_name": "Python 3 (ipykernel)",
   "language": "python",
   "name": "python3"
  },
  "language_info": {
   "codemirror_mode": {
    "name": "ipython",
    "version": 3
   },
   "file_extension": ".py",
   "mimetype": "text/x-python",
   "name": "python",
   "nbconvert_exporter": "python",
   "pygments_lexer": "ipython3",
   "version": "3.12.4"
  }
 },
 "nbformat": 4,
 "nbformat_minor": 5
}
