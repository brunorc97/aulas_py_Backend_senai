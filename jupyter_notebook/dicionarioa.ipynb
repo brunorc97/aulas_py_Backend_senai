{
 "cells": [
  {
   "cell_type": "code",
   "id": "initial_id",
   "metadata": {
    "collapsed": true,
    "ExecuteTime": {
     "end_time": "2025-10-04T00:26:40.833663Z",
     "start_time": "2025-10-04T00:26:40.829907Z"
    }
   },
   "source": [
    "emprestimos = [\n",
    "    {'usuario':'anderson', 'livro':'o sol'},\n",
    "    {'usuario':'andré', 'livro':'o mar'},\n",
    "    {'usuario':'antonio', 'livro':'a lua'},\n",
    "    {'usuario':'altair', 'livro':'a vida'}\n",
    "]\n",
    "\n",
    "# DESAFIO: FAÇA UMA LÓGICA DE IMPRESSÃO DE RELATÓRIO QUE ITERE A LISTA DE DICIONÁRIOS\n",
    "# ACIMA E IMPRIMA TODOS OS DADOS DE TODOS OS EMPRÉSTIMOS\n",
    "#\n",
    "# DICA: PEGUE O CÓDIGO ACIMA QUE ITERA SOBRE UM EMPRÉSTIMO E COLOQUE DENTRO DE OUTRO FOR,\n",
    "# QUE IRÁ ITERAR SOBRE CADA ITEM DA LISTA EMPRESTIMOS\n",
    "\n",
    "\n",
    "# percorre cada dicionário da lista\n",
    "for emprestimo in emprestimos:\n",
    "    # percorre as chaves e valores de cada dicionário\n",
    "    for chave, valor in emprestimo.items():\n",
    "        print(f\"{chave.capitalize()}: {valor}\")\n",
    "    print(\"-\" * 30)  # separador"
   ],
   "outputs": [
    {
     "name": "stdout",
     "output_type": "stream",
     "text": [
      "Usuario: anderson\n",
      "Livro: o sol\n",
      "------------------------------\n",
      "Usuario: andré\n",
      "Livro: o mar\n",
      "------------------------------\n",
      "Usuario: antonio\n",
      "Livro: a lua\n",
      "------------------------------\n",
      "Usuario: altair\n",
      "Livro: a vida\n",
      "------------------------------\n"
     ]
    }
   ],
   "execution_count": 1
  },
  {
   "metadata": {},
   "cell_type": "markdown",
   "source": [
    "# DESAFIO DE DICIONARIOS:\n",
    "#### Crie um programa que implemente inicialmente uma lista vazia\n",
    "##### chamada emprestimos. (serve pra regsitrar emprestimos de livros)\n",
    "##### O programa então irá, em loop, perguntar sempre o usuario e o livro\n",
    "##### que foi emprestado, criar um dicionario com estas duas informações e\n",
    "##### fazer um append na lista.\n",
    "##### para encerrar o programa, o usuario devera digitar SAIR no lugar do usuario\n",
    "##### o programa entao fará outro loop para mostrar os dados de todos os emprestimos\n",
    "##### dica1: vc precisara de 2 loops: um de cadastro e outro pra gerar o relatorio\n",
    "##### dica2: lembre-se dos métodos .items(), .keys() e .values() e encontre o que melhor\n",
    "##### servirá para sua lógica"
   ],
   "id": "96744946874019c2"
  },
  {
   "metadata": {
    "ExecuteTime": {
     "end_time": "2025-10-08T00:18:50.733638Z",
     "start_time": "2025-10-08T00:18:48.338628Z"
    }
   },
   "cell_type": "code",
   "source": [
    "# Cria uma lista vazia para armazenar os empréstimos\n",
    "emprestimos = []\n",
    "\n",
    "print(\"=== Sistema de Empréstimos de Livros ===\")\n",
    "print(\"Digite 'SAIR' no nome do usuário para encerrar o cadastro.\\n\")\n",
    "\n",
    "# Loop de cadastro\n",
    "while True:\n",
    "    usuario = input(\"Nome do usuário: \")\n",
    "\n",
    "    # condição de parada\n",
    "    if usuario.upper() == \"SAIR\":\n",
    "        break\n",
    "\n",
    "    livro = input(\"Nome do livro emprestado: \")\n",
    "\n",
    "    # cria o dicionário para cada empréstimo\n",
    "    registro = {\n",
    "        \"usuario\": usuario,\n",
    "        \"livro\": livro\n",
    "    }\n",
    "\n",
    "    # adiciona o dicionário à lista\n",
    "    emprestimos.append(registro)\n",
    "\n",
    "print(\"\\n=== RELATÓRIO DE EMPRÉSTIMOS ===\")\n",
    "\n",
    "# verifica se há registros\n",
    "if not emprestimos:\n",
    "    print(\"Nenhum empréstimo registrado.\")\n",
    "else:\n",
    "    # Loop para exibir os empréstimos\n",
    "    for emprestimo in emprestimos:\n",
    "        # aqui usamos .items() para percorrer chave e valor\n",
    "        for chave, valor in emprestimo.items():\n",
    "            print(f\"{chave.capitalize()}: {valor}\")\n",
    "        print(\"-\" * 30)"
   ],
   "id": "c4a7e39e64deeeb",
   "outputs": [
    {
     "name": "stdout",
     "output_type": "stream",
     "text": [
      "=== Sistema de Empréstimos de Livros ===\n",
      "Digite 'SAIR' no nome do usuário para encerrar o cadastro.\n",
      "\n",
      "\n",
      "=== RELATÓRIO DE EMPRÉSTIMOS ===\n",
      "Nenhum empréstimo registrado.\n"
     ]
    }
   ],
   "execution_count": 4
  }
 ],
 "metadata": {
  "kernelspec": {
   "display_name": "Python 3",
   "language": "python",
   "name": "python3"
  },
  "language_info": {
   "codemirror_mode": {
    "name": "ipython",
    "version": 2
   },
   "file_extension": ".py",
   "mimetype": "text/x-python",
   "name": "python",
   "nbconvert_exporter": "python",
   "pygments_lexer": "ipython2",
   "version": "2.7.6"
  }
 },
 "nbformat": 4,
 "nbformat_minor": 5
}
