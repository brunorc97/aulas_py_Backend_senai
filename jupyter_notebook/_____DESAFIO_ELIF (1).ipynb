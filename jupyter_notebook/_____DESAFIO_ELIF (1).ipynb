{
 "cells": [
  {
   "cell_type": "markdown",
   "metadata": {
    "id": "-RE-59bPg4Cr"
   },
   "source": [
    "# Exercícios"
   ]
  },
  {
   "cell_type": "markdown",
   "metadata": {
    "id": "v4XGnOC3g4Cx"
   },
   "source": [
    "## 1. Criando um mini sistema de controle de estoque\n",
    "\n",
    "- Crie um sistema para ser usado pelo time de controle de estoque de um centro de distribuição.\n",
    "- Imagine que ao fim de todo dia, o time conta quantas unidades de produto existem no estoque. Se tivermos um estoque abaixo do estoque permitido para aquela categoria do produto, o time deve ser avisado (print) para fazer um novo pedido daquele produto.\n",
    "- Cada categoria de produto tem um estoque mínimo diferente, segundo a regra abaixo:\n",
    "\n",
    "- alimentos -> Estoque mínimo: 50\n",
    "- bebidas -> Estoque mínimo: 75\n",
    "- limpeza -> Estoque mínimo: 30\n",
    "\n",
    "Para isso vamos criar um programa que pede 3 inputs do usuário: nome do produto, categoria e quantidade atual em estoque.\n",
    "\n",
    "Se o produto tiver abaixo do estoque mínimo da categoria dele, o programa deve printar a mensagem \"Solicitar {produto} à equipe de compras, temos apenas {unidades} em estoque\"\n",
    "\n",
    "Exemplo: Se o usuário preenche os inputs com: bebidas, dolly, 90, o programa não deve exibir nenhuma mensagem.<br>\n",
    "Agora, se o usuário preenche os inputs com: bebidas, guaraná, 60, o programa deve exibir a mensagem \"Solicitar guaraná à equipe de compras, temos apenas 60 unidades em estoque.\n",
    "\n",
    "Obs: lembre de usar o int() para transformar o número inserido pelo usuário no input de string para int.<br>\n",
    "Obs2: Caso o usuário não preencha alguma das 3 informações, o programa deve exibir uma mensagem para avisá-lo de preencher corretamente."
   ]
  },
  {
   "cell_type": "code",
   "metadata": {
    "id": "JO9y2bTUg4Cy",
    "ExecuteTime": {
     "end_time": "2025-09-19T22:22:50.818919Z",
     "start_time": "2025-09-19T22:22:37.647597Z"
    }
   },
   "source": [
    "# Inputs do usuário\n",
    "produto = input(\"Digite o nome do produto: \")\n",
    "categoria = input(\"Digite a categoria (alimentos, bebidas, limpeza): \")\n",
    "quantidade_str = input(\"Digite a quantidade atual em estoque: \")\n",
    "\n",
    "# Validação de preenchimento\n",
    "if produto == \"\" or categoria == \"\" or quantidade_str == \"\":\n",
    "    print(\"Por favor, preencha todas as informações corretamente.\")\n",
    "else:\n",
    "    quantidade = int(quantidade_str)\n",
    "\n",
    "    # Definição dos estoques mínimos\n",
    "    if categoria.lower() == \"alimentos\":\n",
    "        minimo = 50\n",
    "    elif categoria.lower() == \"bebidas\":\n",
    "        minimo = 75\n",
    "    elif categoria.lower() == \"limpeza\":\n",
    "        minimo = 30\n",
    "    else:\n",
    "        minimo = None\n",
    "\n",
    "    if minimo is None:\n",
    "        print(\"Categoria inválida. Use: alimentos, bebidas ou limpeza.\")\n",
    "    else:\n",
    "        if quantidade < minimo:\n",
    "            print(f\"Solicitar {produto} à equipe de compras, temos apenas {quantidade} unidades em estoque\")\n",
    "        else:\n",
    "            print(f\"Estoque de {produto} está ok com {quantidade} unidades.\")"
   ],
   "outputs": [
    {
     "name": "stdout",
     "output_type": "stream",
     "text": [
      "Solicitar Coca à equipe de compras, temos apenas 40 unidades em estoque\n"
     ]
    }
   ],
   "execution_count": 2
  }
 ],
 "metadata": {
  "kernelspec": {
   "display_name": "Python 3",
   "language": "python",
   "name": "python3"
  },
  "language_info": {
   "codemirror_mode": {
    "name": "ipython",
    "version": 3
   },
   "file_extension": ".py",
   "mimetype": "text/x-python",
   "name": "python",
   "nbconvert_exporter": "python",
   "pygments_lexer": "ipython3",
   "version": "3.8.3"
  },
  "colab": {
   "provenance": []
  }
 },
 "nbformat": 4,
 "nbformat_minor": 0
}
