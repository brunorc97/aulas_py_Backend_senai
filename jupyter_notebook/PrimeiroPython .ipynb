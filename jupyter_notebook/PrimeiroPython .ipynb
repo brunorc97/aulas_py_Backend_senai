{
 "cells": [
  {
   "metadata": {
    "ExecuteTime": {
     "end_time": "2025-09-10T00:24:49.158807Z",
     "start_time": "2025-09-10T00:24:49.155618Z"
    }
   },
   "cell_type": "code",
   "source": "print(\"Hello World!\")\n",
   "id": "fbc121e30a2defb3",
   "outputs": [
    {
     "name": "stdout",
     "output_type": "stream",
     "text": [
      "Hello World!\n"
     ]
    }
   ],
   "execution_count": 15
  },
  {
   "metadata": {
    "ExecuteTime": {
     "end_time": "2025-09-10T00:24:49.181332Z",
     "start_time": "2025-09-10T00:24:49.178759Z"
    }
   },
   "cell_type": "code",
   "source": "print(\"ola mundo\")",
   "id": "7e3a8c8a57aeb6b1",
   "outputs": [
    {
     "name": "stdout",
     "output_type": "stream",
     "text": [
      "ola mundo\n"
     ]
    }
   ],
   "execution_count": 16
  },
  {
   "metadata": {
    "ExecuteTime": {
     "end_time": "2025-09-10T00:24:49.193033Z",
     "start_time": "2025-09-10T00:24:49.191094Z"
    }
   },
   "cell_type": "code",
   "source": "print(\"ola eu sou uma string\")",
   "id": "eee54c73cdc3a60a",
   "outputs": [
    {
     "name": "stdout",
     "output_type": "stream",
     "text": [
      "ola eu sou uma string\n"
     ]
    }
   ],
   "execution_count": 17
  },
  {
   "metadata": {},
   "cell_type": "markdown",
   "source": [
    "# juntando Strings (concatenando)\n",
    "Voce pode juntar string usando o operador de concatenação \"+\"\n"
   ],
   "id": "3bf7c9893951221"
  },
  {
   "metadata": {
    "ExecuteTime": {
     "end_time": "2025-09-10T00:24:49.203717Z",
     "start_time": "2025-09-10T00:24:49.201698Z"
    }
   },
   "cell_type": "code",
   "source": "print(\"Concatenando\"+ \"String\"+ \"Precisa colocar \" + \"os espaços\")",
   "id": "ece86a42904d9926",
   "outputs": [
    {
     "name": "stdout",
     "output_type": "stream",
     "text": [
      "ConcatenandoStringPrecisa colocar os espaços\n"
     ]
    }
   ],
   "execution_count": 18
  },
  {
   "metadata": {
    "ExecuteTime": {
     "end_time": "2025-09-10T00:24:49.213201Z",
     "start_time": "2025-09-10T00:24:49.211414Z"
    }
   },
   "cell_type": "code",
   "source": "print(\"concatenar\" , \"usando virgulas\" , \"não precisa colocar espaços\")",
   "id": "4be99d2031546eff",
   "outputs": [
    {
     "name": "stdout",
     "output_type": "stream",
     "text": [
      "concatenar usando virgulas não precisa colocar espaços\n"
     ]
    }
   ],
   "execution_count": 19
  },
  {
   "metadata": {},
   "cell_type": "markdown",
   "source": "# Operações Aritmétricas\n",
   "id": "fbad6f659c4e6c57"
  },
  {
   "metadata": {
    "ExecuteTime": {
     "end_time": "2025-09-10T00:24:49.222449Z",
     "start_time": "2025-09-10T00:24:49.220627Z"
    }
   },
   "cell_type": "code",
   "source": "print(\"9\"+\"9\") #neste caso será entendido pelo phyton como string",
   "id": "411be2a1a461efe3",
   "outputs": [
    {
     "name": "stdout",
     "output_type": "stream",
     "text": [
      "99\n"
     ]
    }
   ],
   "execution_count": 20
  },
  {
   "metadata": {
    "ExecuteTime": {
     "end_time": "2025-09-10T00:24:49.231501Z",
     "start_time": "2025-09-10T00:24:49.229569Z"
    }
   },
   "cell_type": "code",
   "source": "print(5 +(5*(5/5)) )",
   "id": "908ace623c740b29",
   "outputs": [
    {
     "name": "stdout",
     "output_type": "stream",
     "text": [
      "10.0\n"
     ]
    }
   ],
   "execution_count": 21
  },
  {
   "metadata": {
    "ExecuteTime": {
     "end_time": "2025-09-10T00:24:49.240273Z",
     "start_time": "2025-09-10T00:24:49.237883Z"
    }
   },
   "cell_type": "code",
   "source": [
    "print(\"Concatenando \" + \"String \" + \"Precisa colocar \" + \"os espaços\")\n",
    "print(\"Concatenar\", \"usando vírgulas\", \"não precisa colocar espaços\")\n",
    "print(\" \".join([\"Concatenando\", \"String\", \"Precisa colocar\", \"os espaços\"]))\n",
    "nome = \"Bruno\"\n",
    "print(f\"Olá, {nome}! (usando f-string)\")"
   ],
   "id": "ff45b65d3a6be546",
   "outputs": [
    {
     "name": "stdout",
     "output_type": "stream",
     "text": [
      "Concatenando String Precisa colocar os espaços\n",
      "Concatenar usando vírgulas não precisa colocar espaços\n",
      "Concatenando String Precisa colocar os espaços\n",
      "Olá, Bruno! (usando f-string)\n"
     ]
    }
   ],
   "execution_count": 22
  },
  {
   "metadata": {
    "ExecuteTime": {
     "end_time": "2025-09-10T00:24:49.249607Z",
     "start_time": "2025-09-10T00:24:49.247308Z"
    }
   },
   "cell_type": "code",
   "source": [
    "print(\"9\" + \"9\")   # '99' (string)\n",
    "print(9 + 9)       # 18  (soma)\n",
    "print(int(\"9\") + int(\"9\"))  # 18 (conversão)"
   ],
   "id": "d9552ec4b4588b55",
   "outputs": [
    {
     "name": "stdout",
     "output_type": "stream",
     "text": [
      "99\n",
      "18\n",
      "18\n"
     ]
    }
   ],
   "execution_count": 23
  },
  {
   "metadata": {
    "ExecuteTime": {
     "end_time": "2025-09-10T00:24:49.260077Z",
     "start_time": "2025-09-10T00:24:49.257326Z"
    }
   },
   "cell_type": "code",
   "source": [
    "print(\"Hello, World!\")\n",
    "\n",
    "print(\"Olá, mundo\")\n",
    "\n",
    "print(\"Olá, eu sou uma string\")\n",
    "\n",
    "# Juntando strings (concatenação)\n",
    "\n",
    "\n",
    "print(\"Concatenando \" + \"strings \" + \"com espaços\")\n",
    "print(\"Concatenar\", \"usando vírgulas\", \"não precisa colocar espaços\")\n",
    "print(\" \".join([\"Concatenando\", \"strings\", \"com\", \"join\"]))\n",
    "nome = \"Bruno\"\n",
    "\n",
    "\n",
    "# Strings vs números\n",
    "\n",
    "print(\"9\" + \"9\")  # '99' -> concatenação de strings\n",
    "print(9 + 9)  # 18   -> soma de inteiros\n",
    "print(int(\"9\") + int(\"9\"))  # 18 -> convertendo string para int\n",
    "\n",
    "# Operações aritméticas\n",
    "\n",
    "print(5 + (5 * (5 / 5)))  # 10.0"
   ],
   "id": "bb1bc559629808ef",
   "outputs": [
    {
     "name": "stdout",
     "output_type": "stream",
     "text": [
      "Hello, World!\n",
      "Olá, mundo\n",
      "Olá, eu sou uma string\n",
      "Concatenando strings com espaços\n",
      "Concatenar usando vírgulas não precisa colocar espaços\n",
      "Concatenando strings com join\n",
      "99\n",
      "18\n",
      "18\n",
      "10.0\n"
     ]
    }
   ],
   "execution_count": 24
  },
  {
   "metadata": {
    "ExecuteTime": {
     "end_time": "2025-09-10T00:24:49.269826Z",
     "start_time": "2025-09-10T00:24:49.268312Z"
    }
   },
   "cell_type": "code",
   "source": "print(11/2)",
   "id": "93ab497c63984fa2",
   "outputs": [
    {
     "name": "stdout",
     "output_type": "stream",
     "text": [
      "5.5\n"
     ]
    }
   ],
   "execution_count": 25
  },
  {
   "metadata": {
    "ExecuteTime": {
     "end_time": "2025-09-10T00:24:49.278975Z",
     "start_time": "2025-09-10T00:24:49.277230Z"
    }
   },
   "cell_type": "code",
   "source": "print (int (10/3)) #int converte os valores para inteiro",
   "id": "b571acc3c62ef76a",
   "outputs": [
    {
     "name": "stdout",
     "output_type": "stream",
     "text": [
      "3\n"
     ]
    }
   ],
   "execution_count": 26
  },
  {
   "metadata": {
    "ExecuteTime": {
     "end_time": "2025-09-10T00:24:49.288946Z",
     "start_time": "2025-09-10T00:24:49.286125Z"
    }
   },
   "cell_type": "code",
   "source": "str(28) # STR converte o numero para String",
   "id": "3c1414be89f1c81e",
   "outputs": [
    {
     "data": {
      "text/plain": [
       "'28'"
      ]
     },
     "execution_count": 27,
     "metadata": {},
     "output_type": "execute_result"
    }
   ],
   "execution_count": 27
  },
  {
   "metadata": {
    "ExecuteTime": {
     "end_time": "2025-09-10T00:24:49.298531Z",
     "start_time": "2025-09-10T00:24:49.296225Z"
    }
   },
   "cell_type": "code",
   "source": "print(10//3) # o operador // faz uma divisao inteira",
   "id": "abd60f5c298859a2",
   "outputs": [
    {
     "name": "stdout",
     "output_type": "stream",
     "text": [
      "3\n"
     ]
    }
   ],
   "execution_count": 28
  },
  {
   "metadata": {
    "ExecuteTime": {
     "end_time": "2025-09-10T00:24:49.321345Z",
     "start_time": "2025-09-10T00:24:49.319355Z"
    }
   },
   "cell_type": "code",
   "source": "print(11%2) #operador % da o resto da divisao",
   "id": "8d52ab32d75db14",
   "outputs": [
    {
     "name": "stdout",
     "output_type": "stream",
     "text": [
      "1\n"
     ]
    }
   ],
   "execution_count": 29
  },
  {
   "metadata": {},
   "cell_type": "markdown",
   "source": [
    "### Resumo Operadores aritméticos\n",
    "#### (+) SOMA\n",
    "#### (-) subtração\n",
    "#### (*) multiplicação\n",
    "####  (/)  divisao (resultado float)\n",
    "#### (//) divisao (resultado inteiro)\n",
    "#### bool converte para boolean\n"
   ],
   "id": "b54f0eefac293a2f"
  },
  {
   "metadata": {},
   "cell_type": "markdown",
   "source": [
    "# Tipos booleano\n",
    "### tipo Booleano é um dado binário que pode ser verdadeiro ou falso\n",
    "#### Para receber resultado booleano, precisa fornecer uma afirmação logica para ser avaliado \"teste logico\""
   ],
   "id": "b28a3e8eb576897f"
  },
  {
   "metadata": {
    "ExecuteTime": {
     "end_time": "2025-09-10T00:35:56.229153Z",
     "start_time": "2025-09-10T00:35:56.226277Z"
    }
   },
   "cell_type": "code",
   "source": "print( 5 !=5) #!= significa diferente",
   "id": "a800aa54cb39f5c0",
   "outputs": [
    {
     "name": "stdout",
     "output_type": "stream",
     "text": [
      "False\n"
     ]
    }
   ],
   "execution_count": 32
  },
  {
   "metadata": {
    "ExecuteTime": {
     "end_time": "2025-09-10T00:37:11.514626Z",
     "start_time": "2025-09-10T00:37:11.511175Z"
    }
   },
   "cell_type": "code",
   "source": "print(5==5)\n",
   "id": "24db7908a3109f97",
   "outputs": [
    {
     "name": "stdout",
     "output_type": "stream",
     "text": [
      "True\n"
     ]
    }
   ],
   "execution_count": 33
  },
  {
   "metadata": {
    "ExecuteTime": {
     "end_time": "2025-09-10T00:40:58.964200Z",
     "start_time": "2025-09-10T00:40:58.961927Z"
    }
   },
   "cell_type": "code",
   "source": "print(10>5)",
   "id": "c04b8dd70a8c8fe2",
   "outputs": [
    {
     "name": "stdout",
     "output_type": "stream",
     "text": [
      "True\n"
     ]
    }
   ],
   "execution_count": 36
  },
  {
   "metadata": {
    "ExecuteTime": {
     "end_time": "2025-09-10T00:41:00.599265Z",
     "start_time": "2025-09-10T00:41:00.595978Z"
    }
   },
   "cell_type": "code",
   "source": "print(10<5)",
   "id": "795ff0c7a6ff49ed",
   "outputs": [
    {
     "name": "stdout",
     "output_type": "stream",
     "text": [
      "False\n"
     ]
    }
   ],
   "execution_count": 37
  },
  {
   "metadata": {
    "ExecuteTime": {
     "end_time": "2025-09-10T00:41:02.217771Z",
     "start_time": "2025-09-10T00:41:02.214862Z"
    }
   },
   "cell_type": "code",
   "source": "print(5>=5)",
   "id": "cec24d5ac72e11f6",
   "outputs": [
    {
     "name": "stdout",
     "output_type": "stream",
     "text": [
      "True\n"
     ]
    }
   ],
   "execution_count": 38
  },
  {
   "metadata": {
    "ExecuteTime": {
     "end_time": "2025-09-10T00:41:04.226487Z",
     "start_time": "2025-09-10T00:41:04.223172Z"
    }
   },
   "cell_type": "code",
   "source": "print(5<=5)",
   "id": "aac87e975e6f615f",
   "outputs": [
    {
     "name": "stdout",
     "output_type": "stream",
     "text": [
      "True\n"
     ]
    }
   ],
   "execution_count": 39
  },
  {
   "metadata": {},
   "cell_type": "markdown",
   "source": [
    "# Resumo Operadores Logicos\n",
    "#### (>) maior\n",
    "#### (<) menor a\n",
    "#### (>=) maior ou igual\n",
    "#### (<=) menor ou igual\n",
    "#### (==) igual\n",
    "#### (!=) diferente de"
   ],
   "id": "e6a2f9523f4ea713"
  },
  {
   "metadata": {},
   "cell_type": "code",
   "outputs": [],
   "execution_count": null,
   "source": [
    "# Comparando idades\n",
    "idade = 18\n",
    "print(idade > 17)   # True, pois 18 é maior que 17\n",
    "print(idade < 21)   # True, pois 18 é menor que 21\n",
    "print(idade == 18)  # True, igual\n",
    "\n",
    "# Comparando strings\n",
    "nome = \"Bruno\"\n",
    "print(nome == \"bruno\")   # False, porque maiúscula/minúscula importam\n",
    "print(nome.lower() == \"bruno\")  # True, forçando tudo minúsculo\n",
    "print(nome.upper() == \"BRUNO\")  # True, forçando tudo maiúsculo\n",
    "print(nome.upper())  # Exibe o nome em maiúsculas\n",
    "\n",
    "# Usando operadores combinados\n",
    "nota = 7.5\n",
    "print(nota >= 7 and nota <= 10)  # True se a nota for entre 7 e 10\n",
    "print(nota < 5 or nota > 9)      # False, não é menor que 5 nem maior que 9\n",
    "print(not (nota < 7))            # True, pois nota não é menor que 7\n",
    "\n",
    "# Exemplo prático: ver se número é par\n",
    "numero = 10\n",
    "print(numero % 2 == 0)  # True se for par"
   ],
   "id": "d622536650777047"
  },
  {
   "metadata": {},
   "cell_type": "markdown",
   "source": [
    "#\t•\tand → precisa que tudo seja verdadeiro.\n",
    "#\t•\tor → basta um ser verdadeiro.\n",
    "#\t•\tnot → inverte o resultado (True ↔ False)."
   ],
   "id": "23eee892ec422483"
  }
 ],
 "metadata": {
  "kernelspec": {
   "display_name": "Python 3",
   "language": "python",
   "name": "python3"
  },
  "language_info": {
   "codemirror_mode": {
    "name": "ipython",
    "version": 2
   },
   "file_extension": ".py",
   "mimetype": "text/x-python",
   "name": "python",
   "nbconvert_exporter": "python",
   "pygments_lexer": "ipython2",
   "version": "2.7.6"
  }
 },
 "nbformat": 4,
 "nbformat_minor": 5
}
