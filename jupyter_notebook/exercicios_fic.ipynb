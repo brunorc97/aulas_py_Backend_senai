{
 "cells": [
  {
   "metadata": {},
   "cell_type": "markdown",
   "source": [
    "# **Exercício 1:**\n",
    "\n",
    "---\n",
    "\n",
    "Faça um programa que calcule a raiz quadrada de um número inteiro fornecido pelo usuário.\n",
    "Utilize a biblioteca *math* para realizar o cálculo.\n",
    "\n",
    "[Link para a Documentação do math](https://docs.python.org/pt-br/3/library/tk.html)\n",
    "\n"
   ]
  },
  {
   "metadata": {},
   "cell_type": "code",
   "outputs": [],
   "execution_count": null,
   "source": [
    "import math\n",
    "\n",
    "num = int(input(\"Digite um número inteiro: \"))\n",
    "raiz = math.sqrt(num)\n",
    "print(f\"A raiz quadrada de {num} é {raiz}\")"
   ]
  },
  {
   "metadata": {},
   "cell_type": "markdown",
   "source": [
    "# **Exercício 2:**\n",
    "\n",
    "---\n",
    "\n",
    "Crie um programa que gere um número aleatório entre 1 e 100 e peça ao usuário para adivinhar qual é esse número. Utilize *randint* da biblioteca *random* para gerar o número aleatório.\n",
    "\n",
    "[Link para a Documentação do random](https://docs.python.org/pt-br/3/library/random.html#random.randint)"
   ]
  },
  {
   "metadata": {},
   "cell_type": "code",
   "outputs": [],
   "execution_count": null,
   "source": [
    "import random\n",
    "# Exercício 2\n",
    "numero_secreto = random.randint(1, 100)\n",
    "print(\"Tente adivinhar o número entre 1 e 100!\")\n",
    "while True:\n",
    "    palpite = int(input(\"Digite seu palpite: \"))\n",
    "    if palpite < numero_secreto:\n",
    "        print(\"O número é maior!\")\n",
    "    elif palpite > numero_secreto:\n",
    "        print(\"O número é menor!\")\n",
    "    else:\n",
    "        print(f\"Parabéns! Você acertou, o número era {numero_secreto}.\")\n",
    "        break"
   ]
  },
  {
   "metadata": {},
   "cell_type": "markdown",
   "source": [
    "# **Exercício 3:**\n",
    "\n",
    "---\n",
    "Crie um programa que solicite ao usuário um nome de arquivo e, em seguida, leia o conteúdo desse arquivo e conte quantas palavras diferentes existem no texto. Utilize *Counter* da biblioteca *collections* para ajudar na contagem.\n",
    "\n",
    "[Link para a Documentação do collections](https://docs.python.org/3/library/collections.html#counter-objects)\n",
    "\n"
   ]
  },
  {
   "metadata": {},
   "cell_type": "code",
   "outputs": [],
   "execution_count": null,
   "source": [
    "from collections import Counter\n",
    "\n",
    "nome_arquivo = input(\"Digite o nome do arquivo: \")\n",
    "with open(nome_arquivo, 'r', encoding='utf-8') as arquivo:\n",
    "    texto = arquivo.read()\n",
    "palavras = texto.split()\n",
    "contador = Counter(palavras)\n",
    "print(f\"Número de palavras diferentes: {len(contador)}\")\n",
    "print(\"Palavras mais comuns:\")\n",
    "for palavra, frequencia in contador.most_common(10):\n",
    "    print(f\"{palavra}: {frequencia}\")"
   ]
  },
  {
   "metadata": {},
   "cell_type": "markdown",
   "source": [
    "# **Exercício 4:**\n",
    "\n",
    "---\n",
    "Crie um programa usando a biblioteca *tkinter* que exiba uma janela com um botão. Quando o botão for clicado, exiba uma mensagem de saudação usando a função *messagebox.showinfo()*.\n",
    "\n",
    "[Link para a Documentação do Tkinter](https://docs.python.org/pt-br/3/library/tk.html)\n",
    "\n",
    "[Site com tutorial em português](https://www.dio.me/articles/o-que-e-e-como-utilizar-a-biblioteca-tkinter-em-python)"
   ]
  },
  {
   "metadata": {},
   "cell_type": "code",
   "outputs": [],
   "execution_count": null,
   "source": [
    "import tkinter as tk\n",
    "from tkinter import messagebox\n",
    "\n",
    "# cria a janela principal\n",
    "root = tk.Tk()\n",
    "root.title(\"Exercício 4 - Tkinter\")\n",
    "\n",
    "# função que exibe a saudação\n",
    "def saudacao():\n",
    "    messagebox.showinfo(\"Saudação\", \"Olá! Seja bem-vindo!\")\n",
    "\n",
    "# cria o botão que chama a função\n",
    "botao = tk.Button(root, text=\"Clique aqui\", command=saudacao)\n",
    "botao.pack(pady=20)\n",
    "\n",
    "# executa a janela\n",
    "root.mainloop()\n"
   ]
  },
  {
   "metadata": {},
   "cell_type": "markdown",
   "source": [
    "# **Exercício 5:**\n",
    "\n",
    "---\n",
    "Crie um programa que utilize a biblioteca *pandas* para ler um arquivo CSV chamado \"dados.csv\".\n",
    "\n",
    "O arquivo contém uma coluna chamada \"idade\". Calcule a média das idades utilizando o método *.mean()* e exiba o resultado.\n",
    "\n",
    "[Link para a Documentação do Pandas](https://pandas.pydata.org/docs/reference/api/pandas.read_csv.html)\n"
   ]
  },
  {
   "metadata": {},
   "cell_type": "code",
   "outputs": [],
   "execution_count": null,
   "source": [
    "# Cole o texto abaixo no seu arquivo dados.csv #\n",
    "\n",
    "idade,\n",
    "5,\n",
    "67,\n",
    "56,\n",
    "78,\n",
    "12"
   ]
  },
  {
   "metadata": {},
   "cell_type": "code",
   "outputs": [],
   "execution_count": null,
   "source": [
    "import pandas as pd\n",
    "\n",
    "# Lê o arquivo CSV\n",
    "dados = pd.read_csv(\"dados.csv\")\n",
    "\n",
    "# Calcula a média da coluna 'idade'\n",
    "media_idade = dados[\"idade\"].mean()\n",
    "\n",
    "# Exibe o resultado\n",
    "print(f\"A média das idades é: {media_idade:.2f}\")"
   ]
  },
  {
   "metadata": {},
   "cell_type": "markdown",
   "source": [
    "# **Exercício 6:**\n",
    "\n",
    "---\n",
    "Crie um programa que utilize as bibliotecas *pandas* e *matplotlib* para ler um arquivo CSV chamado \"dados2.csv\".\n",
    "\n",
    "O arquivo contém duas colunas: \"nome\" e \"pontuacao\". Exiba um gráfico de barras utilizando o método *.bar()* do *matplotlib.pyplot*, passando os nomes como valores no eixo x e as pontuações como valores no eixo y.\n",
    "\n",
    "[Link para a Documentação do Pandas](https://pandas.pydata.org/docs/reference/api/pandas.read_csv.html)\n",
    "\n",
    "[Link para a documentação do matplotlib](https://matplotlib.org/stable/api/_as_gen/matplotlib.pyplot.bar.html)"
   ]
  },
  {
   "metadata": {},
   "cell_type": "code",
   "outputs": [],
   "execution_count": null,
   "source": [
    "# Cole o texto abaixo no seu arquivo dados2.csv #\n",
    "\n",
    "nome,pontuacao\n",
    "jose,120\n",
    "maria,200\n",
    "joao,300\n",
    "anderson,400\n",
    "johnny,450"
   ]
  },
  {
   "metadata": {},
   "cell_type": "code",
   "outputs": [],
   "execution_count": null,
   "source": [
    "import pandas as pd\n",
    "import matplotlib.pyplot as plt\n",
    "\n",
    "# Lê o arquivo CSV\n",
    "dados = pd.read_csv(\"dados2.csv\")\n",
    "\n",
    "# Exibe o DataFrame (opcional, só pra conferir)\n",
    "print(dados)\n",
    "\n",
    "# Cria o gráfico de barras\n",
    "plt.bar(dados[\"nome\"], dados[\"pontuacao\"])\n",
    "\n",
    "# Adiciona título e rótulos\n",
    "plt.title(\"Pontuação por Pessoa\")\n",
    "plt.xlabel(\"Nome\")\n",
    "plt.ylabel(\"Pontuação\")\n",
    "\n",
    "# Exibe o gráfico\n",
    "plt.show()\n",
    "\n",
    "# faça o código aqui #"
   ]
  },
  {
   "metadata": {},
   "cell_type": "markdown",
   "source": [
    "# **Exercício 7:**\n",
    "\n",
    "---\n",
    "Crie um programa que liste todos os arquivos em um diretório específico usando os.listdir()\n",
    "\n",
    "[Link para a Documentação do OS](https://docs.python.org/pt-br/3/library/os.html)"
   ]
  },
  {
   "metadata": {
    "ExecuteTime": {
     "end_time": "2025-10-15T00:22:05.813308Z",
     "start_time": "2025-10-15T00:22:01.799895Z"
    }
   },
   "cell_type": "code",
   "source": [
    "import os\n",
    "from pathlib import Path\n",
    "\n",
    "# Solicita ao usuário o caminho do diretório\n",
    "caminho = input(\"Digite o caminho do diretório: \")\n",
    "\n",
    "# Cria o objeto Path\n",
    "diretorio = Path(caminho)\n",
    "\n",
    "# Verifica se o diretório existe\n",
    "if diretorio.exists() and diretorio.is_dir():\n",
    "    print(\"\\nArquivos encontrados:\")\n",
    "    for arquivo in os.listdir(diretorio):\n",
    "        print(arquivo)\n",
    "else:\n",
    "    print(\"Diretório não encontrado. Verifique o caminho e tente novamente.\")"
   ],
   "outputs": [
    {
     "name": "stdout",
     "output_type": "stream",
     "text": [
      "Diretório não encontrado. Verifique o caminho e tente novamente.\n"
     ]
    }
   ],
   "execution_count": 3
  },
  {
   "metadata": {},
   "cell_type": "code",
   "outputs": [],
   "execution_count": null,
   "source": ""
  }
 ],
 "metadata": {
  "colab": {
   "provenance": []
  },
  "kernelspec": {
   "display_name": "Python 3 (ipykernel)",
   "language": "python",
   "name": "python3"
  },
  "language_info": {
   "codemirror_mode": {
    "name": "ipython",
    "version": 3
   },
   "file_extension": ".py",
   "mimetype": "text/x-python",
   "name": "python",
   "nbconvert_exporter": "python",
   "pygments_lexer": "ipython3",
   "version": "3.12.1"
  }
 },
 "nbformat": 4,
 "nbformat_minor": 0
}
