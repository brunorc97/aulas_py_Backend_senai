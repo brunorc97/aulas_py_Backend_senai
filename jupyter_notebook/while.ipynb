{
 "cells": [
  {
   "cell_type": "code",
   "id": "initial_id",
   "metadata": {
    "collapsed": true,
    "ExecuteTime": {
     "end_time": "2025-09-27T00:34:34.247265Z",
     "start_time": "2025-09-27T00:34:34.243001Z"
    }
   },
   "source": [
    "x=1 # variavel de contole\n",
    "\n",
    "while(x<5):\n",
    "    x= x+1\n",
    "    print(\"estamos na volta {}\".format(x))\n",
    "\n",
    "\n",
    "\n",
    "print(\"fim do while, impresso quando acabar\")"
   ],
   "outputs": [
    {
     "name": "stdout",
     "output_type": "stream",
     "text": [
      "estamos na volta 2\n",
      "estamos na volta 3\n",
      "estamos na volta 4\n",
      "estamos na volta 5\n",
      "fim do while, impresso quando acabar\n"
     ]
    }
   ],
   "execution_count": 11
  },
  {
   "metadata": {},
   "cell_type": "code",
   "source": "",
   "id": "754f805d8081be31",
   "outputs": [],
   "execution_count": null
  }
 ],
 "metadata": {
  "kernelspec": {
   "display_name": "Python 3",
   "language": "python",
   "name": "python3"
  },
  "language_info": {
   "codemirror_mode": {
    "name": "ipython",
    "version": 2
   },
   "file_extension": ".py",
   "mimetype": "text/x-python",
   "name": "python",
   "nbconvert_exporter": "python",
   "pygments_lexer": "ipython2",
   "version": "2.7.6"
  }
 },
 "nbformat": 4,
 "nbformat_minor": 5
}
