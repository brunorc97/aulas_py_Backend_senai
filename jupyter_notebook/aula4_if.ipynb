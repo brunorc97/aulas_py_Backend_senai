{
 "cells": [
  {
   "cell_type": "code",
   "id": "initial_id",
   "metadata": {
    "collapsed": true,
    "ExecuteTime": {
     "end_time": "2025-09-16T23:01:24.457111Z",
     "start_time": "2025-09-16T23:01:24.453251Z"
    }
   },
   "source": [
    "from Aula2_Imput_Variaveis import desconto\n",
    "\n",
    "nota = 10\n",
    "if  (nota >5):\n",
    "    print(\"Avaliação\")\n",
    "    print(\"Aluno Aprovado\")\n",
    "\n",
    "else:\n",
    "    print(\"Avaliação\")\n",
    "    print(\"Aluno Reprovado\")\n",
    "\n",
    "\n"
   ],
   "outputs": [
    {
     "name": "stdout",
     "output_type": "stream",
     "text": [
      "Avaliação\n",
      "Aluno Aprovado\n"
     ]
    }
   ],
   "execution_count": 12
  },
  {
   "metadata": {},
   "cell_type": "markdown",
   "source": [
    "##### A Loja Marabrás pediu um programa que autorize\n",
    "######  automaticamente o vendedor da loja a dar um desconto\n",
    "######  na venda de produtos.\n",
    "######  A lógica de funcionamento do programa é a seguinte:\n",
    "######  O programa pede para o usuário (vendedor) digitar o nome do produto,\n",
    "###### o Preço da Etiqueta e o preço proposto pelo cliente chorão.\n",
    "######  Se o preço proposto for ATÉ 15% abaixo do preço de Lista, o programa\n",
    "######  deverá exibir uma mensagem dizendo \"DESCONTO APROVADO - VOLTE SEMPRE\"\n",
    "######  SENÃO, o programa exibirá uma mensagem dizendo que o valor não foi aprovado\n",
    "###### e informando qual o preço mínimo é possível fazer (ou seja com 15% OFF).\n",
    "\n"
   ],
   "id": "f85bff5e2da6fb61"
  },
  {
   "metadata": {
    "ExecuteTime": {
     "end_time": "2025-09-17T00:30:01.667616Z",
     "start_time": "2025-09-17T00:29:48.857712Z"
    }
   },
   "cell_type": "code",
   "source": [
    "produto = input(\"Digite o nome do produto : \")\n",
    "precoOriginal = float(input(\"Digite o preço original do produto (ex: 2000): \"))\n",
    "precoPretendido = float(input(\"Digite o preço que Gostaria de fazer a proposta (ex: 2000): \"))\n",
    "\n",
    "# Faço input dos valores\n",
    "\n",
    "\n",
    "precoMinimo = precoOriginal * 0.85\n",
    "\n",
    "# Faço preço minimo igual preco original x 0.85 que é igual 15%\n",
    "\n",
    "\n",
    "if precoPretendido == precoOriginal:\n",
    "    print(\"*****VALOR OK***** ---Sem Desconto Aplicado---\")\n",
    "\n",
    "elif precoPretendido > precoOriginal:\n",
    "    print(\"***** REFAÇA O PEDIDO: ***** VALOR MAIOR QUE O ORIGINAL*****\")\n",
    "\n",
    "elif precoPretendido >= precoMinimo:\n",
    "    print(f\"\"\"*****DESCONTO APROVADO*****\n",
    "Valor a ser pago R$ {precoPretendido:.2f}\n",
    "R$ {(precoOriginal - precoPretendido):.2f} mais barato que preço original\n",
    "VOLTE SEMPRE\"\"\")\n",
    "\n",
    "else:\n",
    "    print(f\"\"\"****** VALOR NÃO APROVADO ******\n",
    "Você ofereceu R$ {precoPretendido:.2f}\n",
    "R$ {(precoOriginal - precoPretendido):.2f} menor que o preço original\n",
    "O preço mínimo possível é R$ {precoMinimo:.2f}\"\"\")\n",
    "\n",
    "\n"
   ],
   "id": "23d812228a76b315",
   "outputs": [
    {
     "name": "stdout",
     "output_type": "stream",
     "text": [
      "*****VALOR MAIOR QUE O ORIGINAL*****\n"
     ]
    }
   ],
   "execution_count": 60
  },
  {
   "metadata": {},
   "cell_type": "code",
   "outputs": [],
   "execution_count": null,
   "source": [
    "# IF ELSE dentro do outro\n",
    "\n",
    "\n",
    "time1 = \"Paysandu\"\n",
    "time2 = \"Juventus\"\n",
    "\n",
    "pontuacao_time1 = 100\n",
    "pontuacao_time2 = 100\n",
    "\n",
    "vitorias_time1 = 50\n",
    "vitorias_time2 = 48\n",
    "\n",
    "# 1º - Vou checar se as pontuações são diferentes:\n",
    "if(pontuacao_time1 != pontuacao_time2):\n",
    "    if(pontuacao_time1 > pontuacao_time2):\n",
    "        print(f\"{time1} é o campeão\")\n",
    "    else:\n",
    "        print(f\"{time2} é o campeão\")\n",
    "else:\n",
    "    if(vitorias_time1 != vitorias_time2):\n",
    "        if(vitorias_time1 > vitorias_time2):\n",
    "            print(f\"{time1} é o campeão por numero de vitorias\")\n",
    "        else:\n",
    "            print(f\"{time2} é o campeão por numero de vitorias\")"
   ],
   "id": "2e60bcd444583ff0"
  },
  {
   "metadata": {
    "ExecuteTime": {
     "end_time": "2025-09-17T00:46:07.045554Z",
     "start_time": "2025-09-17T00:45:36.109610Z"
    }
   },
   "cell_type": "code",
   "source": [
    "# DESAFIO-RELÂMPAGO: INCREMENTE O CÓDIGO ABAIXO PARA AVALIAR MAIS UM CRITÉRIO DE DESEMPATE, CASO O NÚMERO\n",
    "# DE VITÓRIAS TAMBÉM SEJA IGUAL, ELE DEVERÁ AVALIAR O SALDO DE GOLS\n",
    "\n",
    "time1 = input(\"Digite o nome do vitoria (ex: Juventus)\")\n",
    "time2 = input(\"Digite o nome do vitoria (ex: Corinthians)\")\n",
    "\n",
    "pontuacao_time1 = input(\"Digite a pontuação do time 1: \")\n",
    "pontuacao_time2 = input(\"Digite a pontuação do time 2: \")\n",
    "\n",
    "vitorias_time1 = input(\"Digite o numero de vitórias do time 1: \")\n",
    "vitorias_time2 = input(\"Digite o numero de vitórias do time 2: \")\n",
    "\n",
    "saldoGols_time1 = input(\"Digite o Saldo de gols do time 1: \")\n",
    "saldoGols_time2 = input(\"Digite o Saldo de gols do time 2: \")\n",
    "\n",
    "if pontuacao_time1 > pontuacao_time2:\n",
    "    print(f\"{time1} é o campeão\")\n",
    "elif pontuacao_time2 > pontuacao_time1:\n",
    "    print(f\"{time2} é o campeão\")\n",
    "elif vitorias_time1 > vitorias_time2:\n",
    "    print(f\"{time1} é o campeão por número de vitórias\")\n",
    "elif vitorias_time2 > vitorias_time1:\n",
    "    print(f\"{time2} é o campeão por número de vitórias\")\n",
    "elif saldoGols_time1 > saldoGols_time2:\n",
    "    print(f\"{time1} é o campeão pelo saldo de gols\")\n",
    "elif saldoGols_time2 > saldoGols_time1:\n",
    "    print(f\"{time2} é o campeão pelo saldo de gols\")\n",
    "else:\n",
    "    print(\"Empate total! Necessário jogo desempate.\")"
   ],
   "id": "d11f277bd414cf7f",
   "outputs": [
    {
     "name": "stdout",
     "output_type": "stream",
     "text": [
      "Palmeiras\n",
      " é o campeão\n"
     ]
    }
   ],
   "execution_count": 66
  }
 ],
 "metadata": {
  "kernelspec": {
   "display_name": "Python 3",
   "language": "python",
   "name": "python3"
  },
  "language_info": {
   "codemirror_mode": {
    "name": "ipython",
    "version": 2
   },
   "file_extension": ".py",
   "mimetype": "text/x-python",
   "name": "python",
   "nbconvert_exporter": "python",
   "pygments_lexer": "ipython2",
   "version": "2.7.6"
  }
 },
 "nbformat": 4,
 "nbformat_minor": 5
}
