{
 "cells": [
  {
   "cell_type": "markdown",
   "id": "65b1ac8c-b151-46ea-a277-b51032099ed4",
   "metadata": {},
   "source": [
    "# Exercício 1: Tuplas\n",
    "## Tema: Pódio de Corrida\n",
    "\n",
    "Você tem uma tupla chamada podio com os nomes dos 5 primeiros colocados de uma corrida: (\"João\", \"Maria\", \"Ana\", \"Carlos\", \"Paulo\").\n",
    "Use o método index para descobrir em qual posição está o corredor chamado \"Ana\" e exiba o resultado.\n",
    "O corredor chamado \"Carlos\" foi desclassificado e não pode mais estar no pódio. Crie uma nova tupla sem o nome dele e exiba o novo pódio.\n",
    "Exemplo de saída esperada:\n",
    "\n",
    "Exemplo de saída:\n",
    "\n",
    "Ana ficou na posição 3.\n",
    "Novo pódio: ('João', 'Maria', 'Ana', 'Paulo')\n",
    "\n"
   ]
  },
  {
   "cell_type": "code",
   "execution_count": null,
   "id": "2182ac42-ef3a-4f78-b850-b9293c5ced5d",
   "metadata": {},
   "outputs": [],
   "source": [
    "# Tupla original com os 5 primeiros colocados\n",
    "podio = (\"João\", \"Maria\", \"Ana\", \"Carlos\", \"Paulo\")\n",
    "\n",
    "# Descobrindo a posição de \"Ana\" (lembrando que o índice começa em 0)\n",
    "posicao_ana = podio.index(\"Ana\") + 1  # +1 para mostrar posição \"real\" (1º, 2º, 3º...)\n",
    "\n",
    "# Criando uma nova tupla sem o \"Carlos\"\n",
    "novo_podio = tuple(nome for nome in podio if nome != \"Carlos\")\n",
    "\n",
    "# Exibindo o resultado\n",
    "print(f\"Ana ficou na posição {posicao_ana}. Novo pódio: {novo_podio}\")"
   ]
  },
  {
   "cell_type": "markdown",
   "id": "f5139fcb-7ddb-4e37-b75f-6fc593a36968",
   "metadata": {},
   "source": [
    "# Exercício 2: Dicionários\n",
    "## Tema: Cadastro de Personagens de Jogo**\n",
    "\n",
    "Crie um dicionário chamado personagem com as seguintes informações:\n",
    "\n",
    "nome: \"Zelda\"\n",
    "poder: 80\n",
    "classe: \"Mago\"\n",
    "\n",
    "O personagem ganhou uma nova arma mágica. Adicione a chave \"arma\" com o valor \"Cajado dos Elementos\".\n",
    "Durante uma batalha, o poder do personagem foi aumentado. Atualize o poder para 95 usando o método update.\n",
    "\n",
    "Exiba o dicionário completo do personagem.\n",
    "\n",
    "O personagem perdeu sua arma mágica. Remova a chave \"arma\" usando o método pop e exiba o dicionário atualizado.\n",
    "Exemplo de saída esperada:\n",
    "\n",
    "Saída esperada:\n",
    "\n",
    "Personagem completo: {'nome': 'Zelda', 'poder': 95, 'classe': 'Mago', 'arma': 'Cajado dos Elementos'}\n",
    "Personagem atualizado: {'nome': 'Zelda', 'poder': 95, 'classe': 'Mago'}\n"
   ]
  },
  {
   "cell_type": "code",
   "id": "39e8a69c-977c-431d-99b9-1dde2a7abce3",
   "metadata": {
    "ExecuteTime": {
     "end_time": "2025-10-08T00:33:23.812485Z",
     "start_time": "2025-10-08T00:33:23.807746Z"
    }
   },
   "source": [
    "# Criação do dicionário inicial\n",
    "personagem = {\n",
    "    \"nome\": \"Zelda\",\n",
    "    \"poder\": 80,\n",
    "    \"classe\": \"Mago\"\n",
    "}\n",
    "\n",
    "# Adicionando a nova arma\n",
    "personagem[\"arma\"] = \"Cajado dos Elementos\"\n",
    "\n",
    "# Atualizando o poder com o método update\n",
    "personagem.update({\"poder\": 95})\n",
    "\n",
    "# Exibindo o dicionário completo\n",
    "print(f\"Personagem completo: {personagem}\")\n",
    "\n",
    "# Removendo a arma com o método pop\n",
    "personagem.pop(\"arma\")\n",
    "\n",
    "# Exibindo o dicionário atualizado\n",
    "print(f\"Personagem atualizado: {personagem}\")"
   ],
   "outputs": [
    {
     "name": "stdout",
     "output_type": "stream",
     "text": [
      "Personagem completo: {'nome': 'Zelda', 'poder': 95, 'classe': 'Mago', 'arma': 'Cajado dos Elementos'}\n",
      "Personagem atualizado: {'nome': 'Zelda', 'poder': 95, 'classe': 'Mago'}\n"
     ]
    }
   ],
   "execution_count": 1
  }
 ],
 "metadata": {
  "kernelspec": {
   "display_name": "Python 3 (ipykernel)",
   "language": "python",
   "name": "python3"
  },
  "language_info": {
   "codemirror_mode": {
    "name": "ipython",
    "version": 3
   },
   "file_extension": ".py",
   "mimetype": "text/x-python",
   "name": "python",
   "nbconvert_exporter": "python",
   "pygments_lexer": "ipython3",
   "version": "3.11.7"
  }
 },
 "nbformat": 4,
 "nbformat_minor": 5
}
